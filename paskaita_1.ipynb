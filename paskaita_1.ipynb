{
 "cells": [
  {
   "cell_type": "code",
   "execution_count": 1,
   "metadata": {},
   "outputs": [
    {
     "name": "stdout",
     "output_type": "stream",
     "text": [
      "The Zen of Python, by Tim Peters\n",
      "\n",
      "Beautiful is better than ugly.\n",
      "Explicit is better than implicit.\n",
      "Simple is better than complex.\n",
      "Complex is better than complicated.\n",
      "Flat is better than nested.\n",
      "Sparse is better than dense.\n",
      "Readability counts.\n",
      "Special cases aren't special enough to break the rules.\n",
      "Although practicality beats purity.\n",
      "Errors should never pass silently.\n",
      "Unless explicitly silenced.\n",
      "In the face of ambiguity, refuse the temptation to guess.\n",
      "There should be one-- and preferably only one --obvious way to do it.\n",
      "Although that way may not be obvious at first unless you're Dutch.\n",
      "Now is better than never.\n",
      "Although never is often better than *right* now.\n",
      "If the implementation is hard to explain, it's a bad idea.\n",
      "If the implementation is easy to explain, it may be a good idea.\n",
      "Namespaces are one honking great idea -- let's do more of those!\n"
     ]
    }
   ],
   "source": [
    "import this"
   ]
  },
  {
   "cell_type": "code",
   "execution_count": 4,
   "metadata": {},
   "outputs": [
    {
     "name": "stdout",
     "output_type": "stream",
     "text": [
      "Darius\n"
     ]
    }
   ],
   "source": [
    "mano_vardas = 'Darius'\n",
    "print(mano_vardas)"
   ]
  },
  {
   "cell_type": "code",
   "execution_count": 13,
   "metadata": {},
   "outputs": [
    {
     "name": "stdout",
     "output_type": "stream",
     "text": [
      "Darius\n",
      "Hello world! My name is Darius\n"
     ]
    }
   ],
   "source": [
    "print(mano_vardas)\n",
    "print('Hello world!', 'My name is', mano_vardas)"
   ]
  },
  {
   "cell_type": "code",
   "execution_count": 10,
   "metadata": {},
   "outputs": [],
   "source": [
    "mano_vardas = 'Jonas'"
   ]
  },
  {
   "cell_type": "code",
   "execution_count": 15,
   "metadata": {},
   "outputs": [
    {
     "data": {
      "text/plain": [
       "str"
      ]
     },
     "execution_count": 15,
     "metadata": {},
     "output_type": "execute_result"
    }
   ],
   "source": [
    "type(mano_vardas)"
   ]
  },
  {
   "cell_type": "code",
   "execution_count": 17,
   "metadata": {},
   "outputs": [
    {
     "name": "stdout",
     "output_type": "stream",
     "text": [
      "<class 'int'>\n",
      "<class 'float'>\n"
     ]
    }
   ],
   "source": [
    "print (type(5) )\n",
    "print (type(5.2))"
   ]
  },
  {
   "cell_type": "code",
   "execution_count": 2,
   "metadata": {},
   "outputs": [],
   "source": [
    "x = 5"
   ]
  },
  {
   "cell_type": "code",
   "execution_count": 3,
   "metadata": {},
   "outputs": [
    {
     "name": "stdout",
     "output_type": "stream",
     "text": [
      "5\n"
     ]
    }
   ],
   "source": [
    "print (x)"
   ]
  },
  {
   "cell_type": "code",
   "execution_count": 22,
   "metadata": {},
   "outputs": [
    {
     "name": "stdout",
     "output_type": "stream",
     "text": [
      "5\n",
      "10\n"
     ]
    }
   ],
   "source": [
    "print(abs(-5) )\n",
    "print(abs(10))"
   ]
  },
  {
   "cell_type": "code",
   "execution_count": 23,
   "metadata": {},
   "outputs": [],
   "source": [
    "# print = 'printas' # cia yra komentaras. NEPERASYTI STANDARTINIU FUNKCIJU\n",
    "# print('Sveiki') # Ctrl + / "
   ]
  },
  {
   "cell_type": "code",
   "execution_count": 17,
   "metadata": {},
   "outputs": [
    {
     "name": "stdout",
     "output_type": "stream",
     "text": [
      "hello world!\n",
      "don't come back\n",
      " this is a text with \" in the middle \n",
      "don't come back\n",
      "\n",
      "Kazkoks eiliuotas\n",
      "tekstas\n",
      "    Dar teksto\n",
      "\n"
     ]
    }
   ],
   "source": [
    "tekstas = 'hello world!'\n",
    "print (tekstas)\n",
    "tekstas_2 = \"don't come back\"\n",
    "print (tekstas_2)\n",
    "tekstas_3 = ' this is a text with \" in the middle '\n",
    "print (tekstas_3)\n",
    "tekstas_2 = 'don\\'t come back'\n",
    "print (tekstas_2)\n",
    "multiline_text = \"\"\"\n",
    "Kazkoks eiliuotas\n",
    "tekstas\n",
    "    Dar teksto\n",
    "\"\"\"\n",
    "print (multiline_text)"
   ]
  },
  {
   "cell_type": "code",
   "execution_count": 22,
   "metadata": {},
   "outputs": [
    {
     "name": "stdout",
     "output_type": "stream",
     "text": [
      "H\n",
      "l\n",
      "!\n",
      "d\n"
     ]
    }
   ],
   "source": [
    "text = 'Hello World!'\n",
    "print (text[0] )\n",
    "print (text[2] )\n",
    "print (text[-1] )\n",
    "print (text[-2] )"
   ]
  },
  {
   "cell_type": "markdown",
   "metadata": {},
   "source": [
    "*italic*\n",
    "**bold**"
   ]
  },
  {
   "cell_type": "markdown",
   "metadata": {},
   "source": [
    "# Slicing\n",
    "#### sub section"
   ]
  },
  {
   "cell_type": "code",
   "execution_count": 39,
   "metadata": {},
   "outputs": [
    {
     "name": "stdout",
     "output_type": "stream",
     "text": [
      "Hello World!\n",
      "text[0:5], Hello Hello\n",
      "text[0:5], Hello Hello\n",
      "text[0:6], Hello  Hello \n",
      "text[0:0],  \n",
      "text[6:9], Wor\n",
      "text[6:3], \n",
      "text[6:3:-1], W o\n",
      "text[6:], World!\n",
      "text[6::2], Wrd\n",
      "text[::3], HlWl\n",
      "text[::-1], !dlroW olleH\n"
     ]
    }
   ],
   "source": [
    "print (text)\n",
    "# [start:end:step] - end is not included\n",
    "print ('text[0:5],', text[0:5], text[:5])\n",
    "print ('text[0:5],', text[0:5], text[:5])\n",
    "print ('text[0:6],', text[0:6], text[:6])\n",
    "print ('text[0:0],', text[0:0], text[:0])\n",
    "print ('text[6:9],', text[6:9])\n",
    "print ('text[6:3],', text[6:3])\n",
    "print ('text[6:3:-1],', text[6:3:-1])\n",
    "print ('text[6:],', text[6:])\n",
    "print ('text[6::2],', text[6::2])\n",
    "print ('text[::3],', text[::3])\n",
    "# reversing\n",
    "print ('text[::-1],', text[::-1])"
   ]
  },
  {
   "cell_type": "code",
   "execution_count": 43,
   "metadata": {},
   "outputs": [
    {
     "name": "stdout",
     "output_type": "stream",
     "text": [
      "12\n",
      "Hello World!\n"
     ]
    }
   ],
   "source": [
    "print (len(text))\n",
    "print (text)"
   ]
  },
  {
   "cell_type": "code",
   "execution_count": 49,
   "metadata": {},
   "outputs": [
    {
     "name": "stdout",
     "output_type": "stream",
     "text": [
      "3\n",
      "hello world!\n",
      "Hello World!\n",
      "hello world!\n"
     ]
    }
   ],
   "source": [
    "text = 'Hello World!'\n",
    "print (text.count('l') )\n",
    "print(text.lower()) # Does not overwrite original data\n",
    "print(text)\n",
    "text = text.lower()\n",
    "print(text) "
   ]
  },
  {
   "cell_type": "code",
   "execution_count": 53,
   "metadata": {},
   "outputs": [
    {
     "name": "stdout",
     "output_type": "stream",
     "text": [
      "['hello', 'world!']\n",
      "['he', '', 'o wor', 'd!']\n",
      "hello tarpas world!\n",
      "hello world\n"
     ]
    }
   ],
   "source": [
    "print (text.split())\n",
    "print (text.split('l'))\n",
    "print (text.replace(' ', ' tarpas ') )\n",
    "print (text.replace('!', '') )"
   ]
  },
  {
   "cell_type": "code",
   "execution_count": 42,
   "metadata": {},
   "outputs": [
    {
     "name": "stdout",
     "output_type": "stream",
     "text": [
      "True\n",
      "False\n"
     ]
    }
   ],
   "source": [
    "print (' '.isspace() )\n",
    "print ('a'.isspace())"
   ]
  },
  {
   "cell_type": "code",
   "execution_count": 55,
   "metadata": {},
   "outputs": [
    {
     "data": {
      "text/plain": [
       "'hello world!'"
      ]
     },
     "execution_count": 55,
     "metadata": {},
     "output_type": "execute_result"
    }
   ],
   "source": [
    "text"
   ]
  },
  {
   "cell_type": "code",
   "execution_count": 58,
   "metadata": {},
   "outputs": [
    {
     "name": "stdout",
     "output_type": "stream",
     "text": [
      "True\n",
      "False\n"
     ]
    }
   ],
   "source": [
    "print ('world' in text)\n",
    "print ('World' in text)"
   ]
  },
  {
   "cell_type": "code",
   "execution_count": 63,
   "metadata": {},
   "outputs": [
    {
     "name": "stdout",
     "output_type": "stream",
     "text": [
      "Hello world! My name is Darius , I like to play tennis\n",
      "Hello world! My name is Darius Grigaliunas, I like to play tennis\n",
      "Hello world! My name is Darius Grigaliunas, I like to play tennis. 5 + 2 is 7\n"
     ]
    }
   ],
   "source": [
    "mano_pavarde = 'Grigaliunas'\n",
    "print('Hello world!', 'My name is', mano_vardas, ', I like to play tennis')\n",
    "print('Hello world!', 'My name is', mano_vardas, mano_pavarde + ', I like to play tennis')\n",
    "# f-string - format string\n",
    "print( f'Hello world! My name is {mano_vardas} {mano_pavarde}, I like to play tennis. 5 + 2 is {5+2}' )"
   ]
  },
  {
   "cell_type": "code",
   "execution_count": 71,
   "metadata": {},
   "outputs": [
    {
     "name": "stdout",
     "output_type": "stream",
     "text": [
      "Hello world\n",
      "Hello Hello Hello Hello Hello Hello Hello Hello Hello Hello \n",
      "Hello 1\n"
     ]
    }
   ],
   "source": [
    "print ('Hello ' + \"world\")\n",
    "# print ('Hello ' - \"l\")\n",
    "print ('Hello ' * 10)\n",
    "# print ('Hello ' + 1)\n",
    "print ('Hello ' + '1')"
   ]
  },
  {
   "cell_type": "code",
   "execution_count": 4,
   "metadata": {},
   "outputs": [
    {
     "name": "stdout",
     "output_type": "stream",
     "text": [
      "52\n",
      "42\n",
      "235\n",
      "9.4\n",
      "229345007\n",
      "8\n",
      "9\n",
      "2\n",
      "1\n",
      "0\n",
      "47 % 5 :  2\n",
      "4 % 5 : 4\n",
      "6 % 5 : 1\n"
     ]
    }
   ],
   "source": [
    "number = 47\n",
    "print (number + 5)\n",
    "print (number - 5)\n",
    "print (number * 5)\n",
    "print (number / 5)\n",
    "print (number ** 5) # kelimas laipsniu\n",
    "print (2 ** 3)\n",
    "print (number // 5) # sveikaja dali\n",
    "print (number % 5) # likutine dalis\n",
    "print (3 % 2) # likutine dalis\n",
    "print (6 % 2) # likutine dalis\n",
    "# 47 % 5 = 47 - 5 * (number // 5)\n",
    "print (\"47 % 5 : \" , 47 - 5 * (47 // 5))\n",
    "print ('4 % 5 :', 4 % 5) # likutine dalis\n",
    "print ('6 % 5 :', 6 % 5) # likutine dalis"
   ]
  },
  {
   "cell_type": "code",
   "execution_count": null,
   "metadata": {},
   "outputs": [],
   "source": []
  }
 ],
 "metadata": {
  "interpreter": {
   "hash": "ce3f3f42ea1e24236ee7d8b6e939f07d74c5d5b656410ea2a0e47f46c58e1c3f"
  },
  "kernelspec": {
   "display_name": "Python 3.10.2 64-bit",
   "language": "python",
   "name": "python3"
  },
  "language_info": {
   "codemirror_mode": {
    "name": "ipython",
    "version": 3
   },
   "file_extension": ".py",
   "mimetype": "text/x-python",
   "name": "python",
   "nbconvert_exporter": "python",
   "pygments_lexer": "ipython3",
   "version": "3.10.2"
  },
  "orig_nbformat": 4
 },
 "nbformat": 4,
 "nbformat_minor": 2
}
