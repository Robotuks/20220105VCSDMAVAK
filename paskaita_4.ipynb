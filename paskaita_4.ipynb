{
 "cells": [
  {
   "cell_type": "markdown",
   "metadata": {},
   "source": [
    "# Set"
   ]
  },
  {
   "cell_type": "code",
   "execution_count": 1,
   "metadata": {},
   "outputs": [],
   "source": [
    "my_set = { 1,2,3,4,5,5,5,5 }"
   ]
  },
  {
   "cell_type": "code",
   "execution_count": 2,
   "metadata": {},
   "outputs": [
    {
     "name": "stdout",
     "output_type": "stream",
     "text": [
      "{1, 2, 3, 4, 5}\n"
     ]
    }
   ],
   "source": [
    "print (my_set)"
   ]
  },
  {
   "cell_type": "code",
   "execution_count": 3,
   "metadata": {},
   "outputs": [
    {
     "ename": "TypeError",
     "evalue": "'set' object is not subscriptable",
     "output_type": "error",
     "traceback": [
      "\u001b[1;31m---------------------------------------------------------------------------\u001b[0m",
      "\u001b[1;31mTypeError\u001b[0m                                 Traceback (most recent call last)",
      "\u001b[1;32mc:\\Users\\Robotux\\Documents\\Python\\20220105VCSDMAVAK\\paskaita_4.ipynb Cell 4'\u001b[0m in \u001b[0;36m<module>\u001b[1;34m\u001b[0m\n\u001b[1;32m----> <a href='vscode-notebook-cell:/c%3A/Users/Robotux/Documents/Python/20220105VCSDMAVAK/paskaita_4.ipynb#ch0000003?line=0'>1</a>\u001b[0m my_set[\u001b[39m0\u001b[39;49m]\n",
      "\u001b[1;31mTypeError\u001b[0m: 'set' object is not subscriptable"
     ]
    }
   ],
   "source": [
    "my_set[0]"
   ]
  },
  {
   "cell_type": "code",
   "execution_count": 6,
   "metadata": {},
   "outputs": [
    {
     "name": "stdout",
     "output_type": "stream",
     "text": [
      "{1, 2, 3, 4, 5, 10, -5}\n"
     ]
    }
   ],
   "source": [
    "my_set.add(10)\n",
    "my_set.add(-5)\n",
    "print (my_set)"
   ]
  },
  {
   "cell_type": "code",
   "execution_count": null,
   "metadata": {},
   "outputs": [],
   "source": [
    "# Set is a mutable variable\n",
    "my_set.copy()"
   ]
  },
  {
   "cell_type": "code",
   "execution_count": 7,
   "metadata": {},
   "outputs": [
    {
     "name": "stdout",
     "output_type": "stream",
     "text": [
      "{1, 2, 3, 4, 5, 100, 10, -5}\n",
      "{2, 3, 4, 5, 100, 10, -5}\n"
     ]
    }
   ],
   "source": [
    "my_set.add(100)\n",
    "print(my_set)\n",
    "my_set.pop()\n",
    "print(my_set)"
   ]
  },
  {
   "cell_type": "code",
   "execution_count": 9,
   "metadata": {},
   "outputs": [
    {
     "name": "stdout",
     "output_type": "stream",
     "text": [
      "{2, 3, 4, 5, 100, 10, -5}\n",
      "{2, 3, 4, 5, 10, -5}\n"
     ]
    },
    {
     "ename": "KeyError",
     "evalue": "100",
     "output_type": "error",
     "traceback": [
      "\u001b[1;31m---------------------------------------------------------------------------\u001b[0m",
      "\u001b[1;31mKeyError\u001b[0m                                  Traceback (most recent call last)",
      "\u001b[1;32mc:\\Users\\Robotux\\Documents\\Python\\20220105VCSDMAVAK\\paskaita_4.ipynb Cell 8'\u001b[0m in \u001b[0;36m<module>\u001b[1;34m\u001b[0m\n\u001b[0;32m      <a href='vscode-notebook-cell:/c%3A/Users/Robotux/Documents/Python/20220105VCSDMAVAK/paskaita_4.ipynb#ch0000007?line=2'>3</a>\u001b[0m my_set\u001b[39m.\u001b[39mremove(\u001b[39m100\u001b[39m)\n\u001b[0;32m      <a href='vscode-notebook-cell:/c%3A/Users/Robotux/Documents/Python/20220105VCSDMAVAK/paskaita_4.ipynb#ch0000007?line=3'>4</a>\u001b[0m \u001b[39mprint\u001b[39m(my_set)\n\u001b[1;32m----> <a href='vscode-notebook-cell:/c%3A/Users/Robotux/Documents/Python/20220105VCSDMAVAK/paskaita_4.ipynb#ch0000007?line=4'>5</a>\u001b[0m my_set\u001b[39m.\u001b[39;49mremove(\u001b[39m100\u001b[39;49m)\n",
      "\u001b[1;31mKeyError\u001b[0m: 100"
     ]
    }
   ],
   "source": [
    "my_set.add(100)\n",
    "print(my_set)\n",
    "my_set.remove(100)\n",
    "print(my_set)\n",
    "# my_set.remove(100) # ismes klaida"
   ]
  },
  {
   "cell_type": "code",
   "execution_count": 13,
   "metadata": {},
   "outputs": [
    {
     "name": "stdout",
     "output_type": "stream",
     "text": [
      "{2, 3, 4, 5, 10, -5}\n",
      "{2, 3, 4, 5, 10}\n"
     ]
    }
   ],
   "source": [
    "print (my_set)\n",
    "my_set.discard(100)\n",
    "my_set.discard(-5)\n",
    "my_set.discard(-5)\n",
    "print (my_set)"
   ]
  },
  {
   "cell_type": "code",
   "execution_count": 14,
   "metadata": {},
   "outputs": [
    {
     "name": "stdout",
     "output_type": "stream",
     "text": [
      "{64, 2, 3, 4, 5, 41, 10, 15, 30}\n"
     ]
    }
   ],
   "source": [
    "my_set.update( [15,30,41,64 ] )\n",
    "print(my_set)"
   ]
  },
  {
   "cell_type": "code",
   "execution_count": 16,
   "metadata": {},
   "outputs": [
    {
     "name": "stdout",
     "output_type": "stream",
     "text": [
      "9 in my_set: False\n",
      "30 in my_set: True\n"
     ]
    }
   ],
   "source": [
    "print ('9 in my_set:' , 9 in my_set)\n",
    "print ('30 in my_set:', 30 in my_set)"
   ]
  },
  {
   "cell_type": "code",
   "execution_count": 21,
   "metadata": {},
   "outputs": [
    {
     "name": "stdout",
     "output_type": "stream",
     "text": [
      "{8, 1, 2}\n",
      "{5, 6}\n",
      "{1, 2, 4, 5, 6, 7, 8, 10, 11}\n"
     ]
    }
   ],
   "source": [
    "my_set_1 = {1,2,5,6,8}\n",
    "my_set_2 = {4,5,6,7,10,11}\n",
    "\n",
    "print (my_set_1.difference( my_set_2) )\n",
    "print (my_set_1.intersection( my_set_2) )\n",
    "print (my_set_1.union( my_set_2) )\n"
   ]
  },
  {
   "cell_type": "code",
   "execution_count": 25,
   "metadata": {},
   "outputs": [
    {
     "name": "stdout",
     "output_type": "stream",
     "text": [
      "True\n",
      "True\n",
      "False\n",
      "False\n"
     ]
    }
   ],
   "source": [
    "my_set_1 = {5,6}\n",
    "my_set_2 = {4,5,6,7,10,11}\n",
    "print (my_set_1.issubset(my_set_2) )\n",
    "print (my_set_2.issuperset(my_set_1 ))\n",
    "my_set_1 = {5,6,15}\n",
    "print (my_set_1.issubset(my_set_2) )\n",
    "print (my_set_2.issuperset(my_set_1 ))"
   ]
  },
  {
   "cell_type": "code",
   "execution_count": 28,
   "metadata": {},
   "outputs": [
    {
     "name": "stdout",
     "output_type": "stream",
     "text": [
      "{('nuaja_reiksme', 5), 'apple', 'banana', 'cherry'}\n"
     ]
    }
   ],
   "source": [
    "fruits = {\"apple\", \"banana\", \"cherry\"}\n",
    "fruits.add( ('nuaja_reiksme', 5) )\n",
    "# fruits.update( [ ('nuaja_reiksme', 5) ] )\n",
    "\n",
    "print(fruits)"
   ]
  },
  {
   "cell_type": "code",
   "execution_count": 29,
   "metadata": {},
   "outputs": [
    {
     "name": "stdout",
     "output_type": "stream",
     "text": [
      "{'banana', 'watermelon', 'cherry'}\n"
     ]
    }
   ],
   "source": [
    "fruits = {\"apple\", \"banana\", \"cherry\"}\n",
    "# fruits.remove(\"apple\")\n",
    "fruits.discard(\"apple\")\n",
    "fruits.add(\"watermelon\")\n",
    "print(fruits)"
   ]
  },
  {
   "cell_type": "code",
   "execution_count": 35,
   "metadata": {},
   "outputs": [
    {
     "name": "stdout",
     "output_type": "stream",
     "text": [
      "{'apple', 'banana', 'watermelon', 'cherry'}\n",
      "{'mango', 'orange', 'watermelon', 'cherry', 'pear', 'apple', 'banana', 'pineapple', 'lime'}\n",
      "{'mango', 'orange', 'watermelon', 'cherry', 'pear', 'banana', 'pineapple', 'lime'}\n",
      "8\n",
      "8\n"
     ]
    }
   ],
   "source": [
    "fruits = {\"apple\", \"banana\", \"cherry\"}\n",
    "fruits.add(\"watermelon\")\n",
    "print (fruits)\n",
    "fruits.update( ['pear', 'mango', 'lime', 'pineapple', 'orange'] )\n",
    "# fruits.update( 'pear', 'mango', 'lime', 'pineapple', 'orange' )\n",
    "print (fruits)\n",
    "fruits.discard(\"apple\")\n",
    "print (fruits)\n",
    "print (len(fruits) )\n",
    "fruits.add(\"watermelon\")\n",
    "print (len(fruits) )"
   ]
  },
  {
   "cell_type": "code",
   "execution_count": 36,
   "metadata": {},
   "outputs": [
    {
     "name": "stdout",
     "output_type": "stream",
     "text": [
      "hello world\n",
      "hello world\n",
      "hello world\n",
      "hello world\n",
      "hello world\n",
      "hello world\n"
     ]
    }
   ],
   "source": [
    "print ('hello world')\n",
    "print ('hello world')\n",
    "print ('hello world')\n",
    "print ('hello world')\n",
    "print ('hello world')"
   ]
  },
  {
   "cell_type": "code",
   "execution_count": null,
   "metadata": {},
   "outputs": [],
   "source": [
    "print ('hello world')"
   ]
  },
  {
   "cell_type": "markdown",
   "metadata": {},
   "source": [
    "# Functions"
   ]
  },
  {
   "cell_type": "code",
   "execution_count": 37,
   "metadata": {},
   "outputs": [],
   "source": [
    "def mano_funkcija():\n",
    "    print('hello world')"
   ]
  },
  {
   "cell_type": "code",
   "execution_count": 39,
   "metadata": {},
   "outputs": [
    {
     "name": "stdout",
     "output_type": "stream",
     "text": [
      "hello world\n",
      "hello world\n",
      "hello world\n"
     ]
    }
   ],
   "source": [
    "mano_funkcija()\n",
    "mano_funkcija()\n",
    "mano_funkcija()"
   ]
  },
  {
   "cell_type": "code",
   "execution_count": 40,
   "metadata": {},
   "outputs": [],
   "source": [
    "def mano_funkcija_2(name):\n",
    "    print (f'Hello {name}, how is your day?')"
   ]
  },
  {
   "cell_type": "code",
   "execution_count": 41,
   "metadata": {},
   "outputs": [
    {
     "ename": "TypeError",
     "evalue": "mano_funkcija_2() missing 1 required positional argument: 'name'",
     "output_type": "error",
     "traceback": [
      "\u001b[1;31m---------------------------------------------------------------------------\u001b[0m",
      "\u001b[1;31mTypeError\u001b[0m                                 Traceback (most recent call last)",
      "\u001b[1;32mc:\\Users\\Robotux\\Documents\\Python\\20220105VCSDMAVAK\\paskaita_4.ipynb Cell 23'\u001b[0m in \u001b[0;36m<module>\u001b[1;34m\u001b[0m\n\u001b[1;32m----> <a href='vscode-notebook-cell:/c%3A/Users/Robotux/Documents/Python/20220105VCSDMAVAK/paskaita_4.ipynb#ch0000022?line=0'>1</a>\u001b[0m mano_funkcija_2()\n",
      "\u001b[1;31mTypeError\u001b[0m: mano_funkcija_2() missing 1 required positional argument: 'name'"
     ]
    }
   ],
   "source": [
    "mano_funkcija_2()"
   ]
  },
  {
   "cell_type": "code",
   "execution_count": 42,
   "metadata": {},
   "outputs": [
    {
     "name": "stdout",
     "output_type": "stream",
     "text": [
      "Hello Tomas, how is your day?\n",
      "Hello Helena, how is your day?\n",
      "Hello Ernesta, how is your day?\n"
     ]
    }
   ],
   "source": [
    "mano_funkcija_2('Tomas')\n",
    "mano_funkcija_2('Helena')\n",
    "mano_funkcija_2('Ernesta')"
   ]
  },
  {
   "cell_type": "code",
   "execution_count": 58,
   "metadata": {},
   "outputs": [],
   "source": [
    "def subtract(num_1, num_2):\n",
    "    local_variable = 10\n",
    "    print (num_1 - num_2)\n",
    "    return num_1 - num_2\n",
    "    print('Niekada neatspausdins')\n",
    "    a = 'asdfgas'"
   ]
  },
  {
   "cell_type": "code",
   "execution_count": 59,
   "metadata": {},
   "outputs": [
    {
     "ename": "TypeError",
     "evalue": "subtract() missing 2 required positional arguments: 'num_1' and 'num_2'",
     "output_type": "error",
     "traceback": [
      "\u001b[1;31m---------------------------------------------------------------------------\u001b[0m",
      "\u001b[1;31mTypeError\u001b[0m                                 Traceback (most recent call last)",
      "\u001b[1;32mc:\\Users\\Robotux\\Documents\\Python\\20220105VCSDMAVAK\\paskaita_4.ipynb Cell 26'\u001b[0m in \u001b[0;36m<module>\u001b[1;34m\u001b[0m\n\u001b[1;32m----> <a href='vscode-notebook-cell:/c%3A/Users/Robotux/Documents/Python/20220105VCSDMAVAK/paskaita_4.ipynb#ch0000027?line=0'>1</a>\u001b[0m subtract()\n",
      "\u001b[1;31mTypeError\u001b[0m: subtract() missing 2 required positional arguments: 'num_1' and 'num_2'"
     ]
    }
   ],
   "source": [
    "subtract()"
   ]
  },
  {
   "cell_type": "code",
   "execution_count": 62,
   "metadata": {},
   "outputs": [
    {
     "name": "stdout",
     "output_type": "stream",
     "text": [
      "7\n",
      "7\n",
      "-7\n",
      "-7\n"
     ]
    },
    {
     "ename": "NameError",
     "evalue": "name 'local_variable' is not defined",
     "output_type": "error",
     "traceback": [
      "\u001b[1;31m---------------------------------------------------------------------------\u001b[0m",
      "\u001b[1;31mNameError\u001b[0m                                 Traceback (most recent call last)",
      "\u001b[1;32mc:\\Users\\Robotux\\Documents\\Python\\20220105VCSDMAVAK\\paskaita_4.ipynb Cell 27'\u001b[0m in \u001b[0;36m<module>\u001b[1;34m\u001b[0m\n\u001b[0;32m      <a href='vscode-notebook-cell:/c%3A/Users/Robotux/Documents/Python/20220105VCSDMAVAK/paskaita_4.ipynb#ch0000025?line=2'>3</a>\u001b[0m result \u001b[39m=\u001b[39m subtract(num_2\u001b[39m=\u001b[39m\u001b[39m12\u001b[39m, num_1\u001b[39m=\u001b[39m\u001b[39m5\u001b[39m)\n\u001b[0;32m      <a href='vscode-notebook-cell:/c%3A/Users/Robotux/Documents/Python/20220105VCSDMAVAK/paskaita_4.ipynb#ch0000025?line=3'>4</a>\u001b[0m \u001b[39mprint\u001b[39m (result)\n\u001b[1;32m----> <a href='vscode-notebook-cell:/c%3A/Users/Robotux/Documents/Python/20220105VCSDMAVAK/paskaita_4.ipynb#ch0000025?line=4'>5</a>\u001b[0m \u001b[39mprint\u001b[39m(local_variable)\n",
      "\u001b[1;31mNameError\u001b[0m: name 'local_variable' is not defined"
     ]
    }
   ],
   "source": [
    "subtract(12,5)\n",
    "subtract(num_1=12, num_2=5)\n",
    "result = subtract(num_2=12, num_1=5)\n",
    "print(result)\n",
    "print(local_variable)"
   ]
  },
  {
   "cell_type": "code",
   "execution_count": 61,
   "metadata": {},
   "outputs": [
    {
     "name": "stdout",
     "output_type": "stream",
     "text": [
      "5\n"
     ]
    }
   ],
   "source": [
    "lenght = len('asdfg')\n",
    "print (lenght)"
   ]
  },
  {
   "cell_type": "code",
   "execution_count": 63,
   "metadata": {},
   "outputs": [],
   "source": [
    "def add_number(num_1, num_2=10):\n",
    "    return num_1 + num_2"
   ]
  },
  {
   "cell_type": "code",
   "execution_count": 66,
   "metadata": {},
   "outputs": [
    {
     "name": "stdout",
     "output_type": "stream",
     "text": [
      "23\n",
      "13\n",
      "53\n"
     ]
    }
   ],
   "source": [
    "print (add_number(3, 20) )\n",
    "print (add_number(3) )\n",
    "print (add_number(3, 50) )"
   ]
  },
  {
   "cell_type": "code",
   "execution_count": 68,
   "metadata": {},
   "outputs": [
    {
     "name": "stdout",
     "output_type": "stream",
     "text": [
      "a b 1 456 4977777\n"
     ]
    }
   ],
   "source": [
    "print('a', 'b', 1, 456, 4977777)"
   ]
  },
  {
   "cell_type": "code",
   "execution_count": 77,
   "metadata": {},
   "outputs": [],
   "source": [
    "def add_all_numbers(*args): # arguments\n",
    "    print (args)\n",
    "    suma = 0\n",
    "    for number in args:\n",
    "        suma += number\n",
    "    return suma\n",
    "    # return sum(args)"
   ]
  },
  {
   "cell_type": "code",
   "execution_count": 78,
   "metadata": {},
   "outputs": [
    {
     "name": "stdout",
     "output_type": "stream",
     "text": [
      "(5, 6, 1, 20, -10)\n"
     ]
    },
    {
     "data": {
      "text/plain": [
       "'THE END'"
      ]
     },
     "execution_count": 78,
     "metadata": {},
     "output_type": "execute_result"
    }
   ],
   "source": [
    "add_all_numbers( 5,6, 1, 20,-10 ) "
   ]
  },
  {
   "cell_type": "code",
   "execution_count": 79,
   "metadata": {},
   "outputs": [],
   "source": [
    "def bad_function(arg_1,arg_2,arg_3):\n",
    "    if arg_1 >5:\n",
    "        if arg_3 > 0:\n",
    "            return 10\n",
    "        else:\n",
    "            return 0\n",
    "    elif arg_2 < 0:\n",
    "        print (arg_2)\n",
    "        return 10\n",
    "    else:\n",
    "        return 100\n",
    "    "
   ]
  },
  {
   "cell_type": "code",
   "execution_count": 80,
   "metadata": {},
   "outputs": [
    {
     "data": {
      "text/plain": [
       "10"
      ]
     },
     "execution_count": 80,
     "metadata": {},
     "output_type": "execute_result"
    }
   ],
   "source": [
    "bad_function(10,5,2)"
   ]
  },
  {
   "cell_type": "code",
   "execution_count": 81,
   "metadata": {},
   "outputs": [],
   "source": [
    "def better_function(arg_1,arg_2,arg_3):\n",
    "    result = None\n",
    "    if arg_1 >5:\n",
    "        if arg_3 > 0:\n",
    "            result = 10\n",
    "        else:\n",
    "            result = 0\n",
    "    elif arg_2 < 0:\n",
    "        print (arg_2)\n",
    "        result = 10\n",
    "    else:\n",
    "        result = 100\n",
    "    print (arg_2)\n",
    "    print (result)\n",
    "    return result"
   ]
  },
  {
   "cell_type": "code",
   "execution_count": 83,
   "metadata": {},
   "outputs": [
    {
     "name": "stdout",
     "output_type": "stream",
     "text": [
      "5\n",
      "10\n"
     ]
    },
    {
     "data": {
      "text/plain": [
       "10"
      ]
     },
     "execution_count": 83,
     "metadata": {},
     "output_type": "execute_result"
    }
   ],
   "source": [
    "better_function(10,5,2)"
   ]
  },
  {
   "cell_type": "code",
   "execution_count": 91,
   "metadata": {},
   "outputs": [],
   "source": [
    "def say_hello_2(name, num_1, num_2=10, **kwargs): # keyword arguments\n",
    "    print(f'hello {name}')\n",
    "    print(num_1 + num_2)\n",
    "    # print (kwargs)\n",
    "    for key, value  in kwargs.items(): \n",
    "        print (f'key {key} have a value of {value}')"
   ]
  },
  {
   "cell_type": "code",
   "execution_count": 92,
   "metadata": {},
   "outputs": [
    {
     "name": "stdout",
     "output_type": "stream",
     "text": [
      "hello Darius\n",
      "15\n"
     ]
    }
   ],
   "source": [
    "say_hello_2('Darius', 5)"
   ]
  },
  {
   "cell_type": "code",
   "execution_count": 94,
   "metadata": {},
   "outputs": [
    {
     "name": "stdout",
     "output_type": "stream",
     "text": [
      "hello Darius\n",
      "15\n",
      "key surname have a value of Grigaliunas\n",
      "key city have a value of London\n"
     ]
    }
   ],
   "source": [
    "say_hello_2('Darius', 5, surname='Grigaliunas', city=\"London\")"
   ]
  },
  {
   "cell_type": "code",
   "execution_count": 95,
   "metadata": {},
   "outputs": [],
   "source": [
    "def mano_funkcija_2(name):\n",
    "    \"\"\"\n",
    "    This function says hello to <name>, and asks how are they.\n",
    "    \"\"\"\n",
    "    # ^^^ Docstring\n",
    "    print (f'Hello {name}, how is your day?')"
   ]
  },
  {
   "cell_type": "code",
   "execution_count": null,
   "metadata": {},
   "outputs": [],
   "source": [
    "mano_funkcija_2()"
   ]
  },
  {
   "cell_type": "code",
   "execution_count": 96,
   "metadata": {},
   "outputs": [],
   "source": [
    "def dummy_function(\n",
    "    argument_1,\n",
    "    argument_2,\n",
    "    argument_3,\n",
    "    optional_argument = 10\n",
    "):\n",
    "    \"\"\"\n",
    "    dummy function\n",
    "    \"\"\"\n",
    "    return 0\n",
    "    "
   ]
  },
  {
   "cell_type": "code",
   "execution_count": null,
   "metadata": {},
   "outputs": [],
   "source": [
    "# dummy_function()"
   ]
  },
  {
   "cell_type": "code",
   "execution_count": 99,
   "metadata": {},
   "outputs": [
    {
     "name": "stdout",
     "output_type": "stream",
     "text": [
      "bye\n"
     ]
    }
   ],
   "source": [
    "# bye() # error, function not defined\n",
    "\n",
    "def bye():\n",
    "    print ('bye')\n",
    "\n",
    "bye()\n"
   ]
  },
  {
   "cell_type": "code",
   "execution_count": 101,
   "metadata": {},
   "outputs": [
    {
     "name": "stdout",
     "output_type": "stream",
     "text": [
      "bye\n"
     ]
    }
   ],
   "source": [
    "new_bye = bye\n",
    "new_bye()"
   ]
  },
  {
   "cell_type": "code",
   "execution_count": 102,
   "metadata": {},
   "outputs": [],
   "source": [
    "def my_function(x,y):\n",
    "    if (x+y) % 2 == 0:\n",
    "        return x*y\n",
    "    else:\n",
    "        return x / y\n"
   ]
  },
  {
   "cell_type": "code",
   "execution_count": 106,
   "metadata": {},
   "outputs": [],
   "source": [
    "def my_function(x,y):\n",
    "    if (x+y) % 2 == 0:\n",
    "        return x * y\n",
    "    return x / y"
   ]
  },
  {
   "cell_type": "code",
   "execution_count": 107,
   "metadata": {},
   "outputs": [
    {
     "name": "stdout",
     "output_type": "stream",
     "text": [
      "12\n",
      "2.0\n"
     ]
    }
   ],
   "source": [
    "print (my_function(2,6) )\n",
    "print (my_function(10,5) )"
   ]
  },
  {
   "cell_type": "code",
   "execution_count": 110,
   "metadata": {},
   "outputs": [
    {
     "name": "stdout",
     "output_type": "stream",
     "text": [
      "Darius\n"
     ]
    }
   ],
   "source": [
    "def my_func(name):\n",
    "    print(name)\n",
    "\n",
    "new_func = my_func\n",
    "new_func('Darius')"
   ]
  },
  {
   "cell_type": "code",
   "execution_count": 111,
   "metadata": {},
   "outputs": [
    {
     "name": "stdout",
     "output_type": "stream",
     "text": [
      "Labas\n"
     ]
    }
   ],
   "source": [
    "def eilute_(arg = \"\"):\n",
    "    print (arg)\n",
    "\n",
    "naujas_skaiciavimas = eilute_\n",
    "naujas_skaiciavimas(\"Labas\")\n"
   ]
  },
  {
   "cell_type": "code",
   "execution_count": 125,
   "metadata": {},
   "outputs": [],
   "source": [
    "\n",
    "def mano_funkcija(*args):\n",
    "    result_dict = {}\n",
    "    for number in range(1,11):\n",
    "        result_dict[number] = 0\n",
    "        for arg in args:\n",
    "            if arg % number == 0:\n",
    "                result_dict[number] += 1\n",
    "\n",
    "    return result_dict"
   ]
  },
  {
   "cell_type": "code",
   "execution_count": 124,
   "metadata": {},
   "outputs": [
    {
     "name": "stdout",
     "output_type": "stream",
     "text": [
      "(1, 2, 65, 30, 37, 16, 9)\n"
     ]
    },
    {
     "data": {
      "text/plain": [
       "{1: 7, 2: 3, 3: 2, 4: 1, 5: 2, 6: 1, 7: 0, 8: 1, 9: 1, 10: 1}"
      ]
     },
     "execution_count": 124,
     "metadata": {},
     "output_type": "execute_result"
    }
   ],
   "source": [
    "mano_funkcija(1,2,65,30, 37,16, 9)"
   ]
  },
  {
   "cell_type": "code",
   "execution_count": 126,
   "metadata": {},
   "outputs": [
    {
     "data": {
      "text/plain": [
       "['hello', ' sadF', ' AH9H ', 'TAWTAWTW']"
      ]
     },
     "execution_count": 126,
     "metadata": {},
     "output_type": "execute_result"
    }
   ],
   "source": [
    "'hello, sadF, AH9H ,TAWTAWTW'.split(',')"
   ]
  },
  {
   "cell_type": "code",
   "execution_count": 128,
   "metadata": {},
   "outputs": [],
   "source": [
    "text = \"Hello world\"\n",
    "\n",
    "def my_split(x):\n",
    "    return x.split(' ')[0]\n",
    "\n",
    "my_lambda_split = lambda x: x.split(' ')[0]"
   ]
  },
  {
   "cell_type": "code",
   "execution_count": 129,
   "metadata": {},
   "outputs": [
    {
     "name": "stdout",
     "output_type": "stream",
     "text": [
      "Hello\n",
      "Hello\n"
     ]
    }
   ],
   "source": [
    "print (my_split(text))\n",
    "print (my_lambda_split(text))"
   ]
  },
  {
   "cell_type": "code",
   "execution_count": 143,
   "metadata": {},
   "outputs": [
    {
     "name": "stdout",
     "output_type": "stream",
     "text": [
      "[['one', 1], ['two', 2], ['ten', 10], ['five', 5], [0, 'zero']]\n",
      "[[0, 'zero'], ['one', 1], ['two', 2], ['five', 5], ['ten', 10]]\n"
     ]
    }
   ],
   "source": [
    "my_list = [ ['one', 1 ], ['two', 2], ['ten', 10], ['five', 5], [ 0 , 'zero'] ]\n",
    "print (my_list)\n",
    "# print (sorted(my_list) )\n",
    "# print (sorted(my_list, key=lambda x: x[1] ) )\n",
    "print (sorted(my_list, key=lambda x: x[1] if isinstance(x[1], int) else 0 ) )"
   ]
  },
  {
   "cell_type": "code",
   "execution_count": 142,
   "metadata": {},
   "outputs": [
    {
     "name": "stdout",
     "output_type": "stream",
     "text": [
      "['a', 'me', 'hello', 'very_long_word']\n",
      "['very_long_word', 'hello', 'me', 'a']\n"
     ]
    }
   ],
   "source": [
    "my_words = [ 'a', 'hello', 'me', 'very_long_word' ]\n",
    "print (sorted(my_words, key=lambda x: len(x) ) )\n",
    "print (sorted(my_words, key=lambda x: len(x), reverse=True ) )"
   ]
  },
  {
   "cell_type": "markdown",
   "metadata": {},
   "source": [
    "# While loop"
   ]
  },
  {
   "cell_type": "code",
   "execution_count": 145,
   "metadata": {},
   "outputs": [
    {
     "name": "stdout",
     "output_type": "stream",
     "text": [
      "No input received. Please try again!\n",
      "No input received. Please try again!\n",
      "Your name is Darius\n"
     ]
    }
   ],
   "source": [
    "name = None\n",
    "\n",
    "while name is None:\n",
    "    user_input = input(\"What is your name?\")\n",
    "    if user_input:\n",
    "        name = user_input\n",
    "    else:\n",
    "        print ('No input received. Please try again!')\n",
    "\n",
    "print ('Your name is',name)"
   ]
  },
  {
   "cell_type": "code",
   "execution_count": null,
   "metadata": {},
   "outputs": [],
   "source": [
    "while True:\n",
    "    print ('to infinity and beyond') # To stop code running Ctrl + C"
   ]
  },
  {
   "cell_type": "code",
   "execution_count": null,
   "metadata": {},
   "outputs": [],
   "source": [
    "while True:\n",
    "    user_input = input(\"What is your name?\")\n",
    "    print ('to infinity and beyond')"
   ]
  },
  {
   "cell_type": "code",
   "execution_count": 152,
   "metadata": {},
   "outputs": [
    {
     "name": "stdout",
     "output_type": "stream",
     "text": [
      "number 5 is smaller than 5. Try again \n",
      "number 1 is smaller than 5. Try again \n",
      "number 4 is smaller than 5. Try again \n",
      "while loop ended\n"
     ]
    }
   ],
   "source": [
    "while True:\n",
    "    user_input = input(\"enter a number\")\n",
    "    if int(user_input) > 5:\n",
    "        break\n",
    "    print (f'number {user_input} is smaller than 5. Try again ')\n",
    "    # print ('to infinity and beyond')\n",
    "print ('while loop ended')"
   ]
  },
  {
   "cell_type": "code",
   "execution_count": null,
   "metadata": {},
   "outputs": [],
   "source": []
  }
 ],
 "metadata": {
  "interpreter": {
   "hash": "ce3f3f42ea1e24236ee7d8b6e939f07d74c5d5b656410ea2a0e47f46c58e1c3f"
  },
  "kernelspec": {
   "display_name": "Python 3.10.2 64-bit",
   "language": "python",
   "name": "python3"
  },
  "language_info": {
   "codemirror_mode": {
    "name": "ipython",
    "version": 3
   },
   "file_extension": ".py",
   "mimetype": "text/x-python",
   "name": "python",
   "nbconvert_exporter": "python",
   "pygments_lexer": "ipython3",
   "version": "3.10.2"
  },
  "orig_nbformat": 4
 },
 "nbformat": 4,
 "nbformat_minor": 2
}
