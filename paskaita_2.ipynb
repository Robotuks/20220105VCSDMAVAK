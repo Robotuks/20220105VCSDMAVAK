{
 "cells": [
  {
   "cell_type": "code",
   "execution_count": 50,
   "metadata": {},
   "outputs": [
    {
     "name": "stdout",
     "output_type": "stream",
     "text": [
      "<class 'int'>\n",
      "<class 'float'>\n",
      "<class 'float'>\n"
     ]
    }
   ],
   "source": [
    "print (type(420) )\n",
    "print (type(420.) )\n",
    "print (type(420.5) )"
   ]
  },
  {
   "cell_type": "code",
   "execution_count": 51,
   "metadata": {},
   "outputs": [
    {
     "name": "stdout",
     "output_type": "stream",
     "text": [
      "5\n",
      "11\n",
      "18\n"
     ]
    }
   ],
   "source": [
    "suma = 0\n",
    "suma = suma + 5\n",
    "print (suma)\n",
    "suma = suma + 6\n",
    "print (suma)\n",
    "suma += 7\n",
    "print (suma)"
   ]
  },
  {
   "cell_type": "code",
   "execution_count": 52,
   "metadata": {},
   "outputs": [
    {
     "name": "stdout",
     "output_type": "stream",
     "text": [
      "10\n",
      "45.0\n",
      "2025.0\n"
     ]
    }
   ],
   "source": [
    "sandauga = 1\n",
    "sandauga *= 10\n",
    "print (sandauga)\n",
    "sandauga *= 4.5\n",
    "print (sandauga)\n",
    "sandauga **= 2 # kelimas kvadratu\n",
    "print (sandauga)"
   ]
  },
  {
   "cell_type": "code",
   "execution_count": 53,
   "metadata": {},
   "outputs": [
    {
     "name": "stdout",
     "output_type": "stream",
     "text": [
      "27\n",
      "19\n",
      "92\n",
      "dalybos liekana: 3\n",
      "sveikoji dalis dalybos: 5\n",
      "5.75\n"
     ]
    }
   ],
   "source": [
    "n_1= 23\n",
    "n_2=4\n",
    "\n",
    "print(n_1+n_2)\n",
    "print(n_1-n_2)\n",
    "print(n_1*n_2)\n",
    "print('dalybos liekana:', n_1%n_2)\n",
    "print('sveikoji dalis dalybos:', n_1//n_2)\n",
    "print(n_1/n_2)\n"
   ]
  },
  {
   "cell_type": "code",
   "execution_count": 54,
   "metadata": {},
   "outputs": [
    {
     "name": "stdout",
     "output_type": "stream",
     "text": [
      "27.83\n",
      "18.57\n",
      "107.416\n",
      "dalybos liekana: 0.04999999999999982\n",
      "sveikoji dalis dalybos: 5.0\n",
      "5.010799136069115\n",
      "2.0\n",
      "2.0\n",
      "2.5\n"
     ]
    }
   ],
   "source": [
    "n_1= 23.2\n",
    "n_2= 4.63\n",
    "\n",
    "print(n_1+n_2)\n",
    "print(n_1-n_2)\n",
    "print(n_1*n_2)\n",
    "print('dalybos liekana:', n_1%n_2)\n",
    "print('sveikoji dalis dalybos:', n_1//n_2)\n",
    "print(n_1/n_2)\n",
    "print (10/5)\n",
    "print (10./5.)\n",
    "print (5/2)"
   ]
  },
  {
   "cell_type": "code",
   "execution_count": 55,
   "metadata": {},
   "outputs": [
    {
     "name": "stdout",
     "output_type": "stream",
     "text": [
      "Atstumas iki saules yra 390.625 kartu didesnis nei iki menulio\n"
     ]
    }
   ],
   "source": [
    "dist_moon = 384000 # km\n",
    "dist_sun = 150000000 # km\n",
    "print(f'Atstumas iki saules yra {dist_sun/dist_moon} kartu didesnis nei iki menulio')"
   ]
  },
  {
   "cell_type": "code",
   "execution_count": 56,
   "metadata": {},
   "outputs": [
    {
     "name": "stdout",
     "output_type": "stream",
     "text": [
      "valandu: 2560.0\n"
     ]
    }
   ],
   "source": [
    "car_speed = 150 # km/h\n",
    "print('valandu:', dist_moon/car_speed)"
   ]
  },
  {
   "cell_type": "code",
   "execution_count": 57,
   "metadata": {},
   "outputs": [
    {
     "name": "stdout",
     "output_type": "stream",
     "text": [
      "<class 'bool'>\n",
      "True\n"
     ]
    }
   ],
   "source": [
    "loginis_kintamasis = True\n",
    "print (type(loginis_kintamasis))\n",
    "print (loginis_kintamasis)"
   ]
  },
  {
   "cell_type": "code",
   "execution_count": 58,
   "metadata": {},
   "outputs": [
    {
     "name": "stdout",
     "output_type": "stream",
     "text": [
      "1\n",
      "0\n"
     ]
    }
   ],
   "source": [
    "print ( int(loginis_kintamasis) )\n",
    "print ( int(False) )"
   ]
  },
  {
   "cell_type": "code",
   "execution_count": 59,
   "metadata": {},
   "outputs": [
    {
     "name": "stdout",
     "output_type": "stream",
     "text": [
      "True\n",
      "False\n",
      "False\n",
      "True\n",
      "True\n",
      "50 == number: True\n",
      "100 == number: False\n",
      "100 != number: True\n",
      "90 != number: True\n",
      "50 != number: False\n"
     ]
    }
   ],
   "source": [
    "number = 50\n",
    "print ( 10 > 5 )\n",
    "print ( 10 < 5 )\n",
    "print ( 10 < 10 )\n",
    "print ( 10 <= 10 )\n",
    "print ( 10 >= 10 )\n",
    "print ('50 == number:', 50 == number ) # = - priskiria verte, == - palygina\n",
    "print ('100 == number:', 100 == number )\n",
    "print ('100 != number:', 100 != number ) # != nera lygus\n",
    "print ('90 != number:', 90 != number ) # != nera lygus\n",
    "print ('50 != number:', 50 != number ) # != nera lygus"
   ]
  },
  {
   "cell_type": "code",
   "execution_count": 60,
   "metadata": {},
   "outputs": [
    {
     "name": "stdout",
     "output_type": "stream",
     "text": [
      " bool(1654): True\n",
      " bool(0): False\n",
      " bool(-1): True\n",
      " bool(0.000001): True\n"
     ]
    }
   ],
   "source": [
    "print (' bool(1654):', bool(1654) )\n",
    "print (' bool(0):', bool(0) )\n",
    "print (' bool(-1):', bool(-1) )\n",
    "print (' bool(0.000001):', bool(0.000001) )"
   ]
  },
  {
   "cell_type": "code",
   "execution_count": 61,
   "metadata": {},
   "outputs": [
    {
     "name": "stdout",
     "output_type": "stream",
     "text": [
      " bool('tekstas'): True\n",
      " bool(''): False\n",
      " bool(' '): True\n"
     ]
    }
   ],
   "source": [
    "print (\" bool('tekstas'):\", bool('tekstas') )\n",
    "print (\" bool(''):\", bool('') )\n",
    "print (\" bool(' '):\", bool(' ') )"
   ]
  },
  {
   "cell_type": "code",
   "execution_count": 62,
   "metadata": {},
   "outputs": [
    {
     "name": "stdout",
     "output_type": "stream",
     "text": [
      "10 < 5 : False\n",
      "10 > 8 : True\n",
      "10 < 5 and 10 > 8: False\n",
      "10 < 50 and 10 > 8: True\n",
      "10 < 5 or 10 > 8: True\n",
      "10 < 50 or 10 > 8: True\n",
      "True\n",
      "False\n",
      "True\n"
     ]
    }
   ],
   "source": [
    "print ('10 < 5 :', 10 < 5)\n",
    "print ('10 > 8 :', 10 > 8)\n",
    "print ('10 < 5 and 10 > 8:', 10 < 5 and 10 > 8)\n",
    "print ('10 < 50 and 10 > 8:', 10 < 50 and 10 > 8)\n",
    "\n",
    "print ('10 < 5 or 10 > 8:', 10 < 5 or 10 > 8)\n",
    "print ('10 < 50 or 10 > 8:', 10 < 50 or 10 > 8)\n",
    "\n",
    "# not - duoda priesinga atsakyma\n",
    "print (not 5 > 10)\n",
    "print (not True)\n",
    "print (not False)"
   ]
  },
  {
   "cell_type": "code",
   "execution_count": 67,
   "metadata": {},
   "outputs": [
    {
     "name": "stdout",
     "output_type": "stream",
     "text": [
      "True\n",
      "False\n",
      "True\n",
      "True\n",
      "False\n"
     ]
    }
   ],
   "source": [
    "print( \"Vilnius\" in 'Vilnius, Kaunas' )\n",
    "print( \"Klaipeda\" in 'Vilnius, Kaunas' )\n",
    "print( \"s\" in 'Vilnius, Kaunas' )\n",
    "print( \"Kau\" in 'Vilnius, Kaunas' )\n",
    "print( \"kaunas\" in 'Vilnius, Kaunas' )"
   ]
  },
  {
   "cell_type": "code",
   "execution_count": 69,
   "metadata": {},
   "outputs": [
    {
     "name": "stdout",
     "output_type": "stream",
     "text": [
      "True\n",
      "True\n"
     ]
    }
   ],
   "source": [
    "print (True == 1)\n",
    "print (False == 0)"
   ]
  },
  {
   "cell_type": "code",
   "execution_count": 71,
   "metadata": {},
   "outputs": [
    {
     "name": "stdout",
     "output_type": "stream",
     "text": [
      "True\n",
      "True\n",
      "True\n",
      "True\n",
      "True\n",
      "True\n",
      "True\n"
     ]
    }
   ],
   "source": [
    "print (1==1)\n",
    "print (2>1)\n",
    "print (not 1>2)\n",
    "print (\"a\" in \"abc\")\n",
    "print (bool(12))\n",
    "print (not 's' in 'Lova')\n",
    "print (not 's' in 'Lova' and 2>1)"
   ]
  },
  {
   "cell_type": "code",
   "execution_count": 73,
   "metadata": {},
   "outputs": [
    {
     "name": "stdout",
     "output_type": "stream",
     "text": [
      "False\n",
      "False\n",
      "False\n",
      "False\n",
      "False\n",
      "False\n",
      "False\n"
     ]
    }
   ],
   "source": [
    "print (0==1)\n",
    "print (2>10)\n",
    "print (not 10>2)\n",
    "print (\"d\" in \"abc\")\n",
    "print (bool(0))\n",
    "print ( 's' in 'Lova')\n",
    "print (not 's' in 'Lova' and 2 > 10)"
   ]
  },
  {
   "cell_type": "code",
   "execution_count": 74,
   "metadata": {},
   "outputs": [
    {
     "name": "stdout",
     "output_type": "stream",
     "text": [
      "True\n"
     ]
    }
   ],
   "source": [
    "print (str(True))"
   ]
  },
  {
   "cell_type": "code",
   "execution_count": 75,
   "metadata": {},
   "outputs": [
    {
     "name": "stdout",
     "output_type": "stream",
     "text": [
      "-1.0999999999999996\n"
     ]
    }
   ],
   "source": [
    "float_1=2.2\n",
    "float_2=3.3\n",
    "print(float_1-float_2) # tai nera klaida, kompiuteriai veikia dvejetaineje sistemoje"
   ]
  },
  {
   "cell_type": "markdown",
   "metadata": {},
   "source": [
    "# List"
   ]
  },
  {
   "cell_type": "code",
   "execution_count": 76,
   "metadata": {},
   "outputs": [],
   "source": [
    "cities = [ 'Vilnius', 'Kaunas', 'Klaipeda' ]"
   ]
  },
  {
   "cell_type": "code",
   "execution_count": 80,
   "metadata": {},
   "outputs": [
    {
     "name": "stdout",
     "output_type": "stream",
     "text": [
      "<class 'list'>\n",
      "<class 'list'>\n",
      "Vilnius\n",
      "Klaipeda\n",
      "['Kaunas', 'Klaipeda']\n"
     ]
    }
   ],
   "source": [
    "print (type(cities))\n",
    "print (type( [] ) )\n",
    "print (cities[0])\n",
    "print (cities[-1] )\n",
    "# slicing\n",
    "print (cities[1:] )"
   ]
  },
  {
   "cell_type": "code",
   "execution_count": 81,
   "metadata": {},
   "outputs": [
    {
     "name": "stdout",
     "output_type": "stream",
     "text": [
      "['Vilnius', 'Kaunas', 'Siauliai']\n"
     ]
    }
   ],
   "source": [
    "cities[-1] = 'Siauliai'\n",
    "print (cities)"
   ]
  },
  {
   "cell_type": "code",
   "execution_count": 86,
   "metadata": {},
   "outputs": [
    {
     "name": "stdout",
     "output_type": "stream",
     "text": [
      "['Vilnius', 'Kaunas', 'Siauliai', 'Panevezys', 'Marijampole', 'Panevezys']\n"
     ]
    }
   ],
   "source": [
    "cities.append('Marijampole')\n",
    "cities.append('Panevezys') # prideda kiekviena karta paleidus\n",
    "print(cities)"
   ]
  },
  {
   "cell_type": "code",
   "execution_count": 87,
   "metadata": {},
   "outputs": [],
   "source": [
    "cities.remove('Panevezys')"
   ]
  },
  {
   "cell_type": "code",
   "execution_count": 88,
   "metadata": {},
   "outputs": [
    {
     "name": "stdout",
     "output_type": "stream",
     "text": [
      "['Vilnius', 'Kaunas', 'Siauliai', 'Marijampole', 'Panevezys']\n"
     ]
    }
   ],
   "source": [
    "print (cities)"
   ]
  },
  {
   "cell_type": "code",
   "execution_count": 90,
   "metadata": {},
   "outputs": [
    {
     "name": "stdout",
     "output_type": "stream",
     "text": [
      "['Vilnius', 'Kaunas', 'Siauliai', 'Marijampole', 'Panevezys', 'Marijampole', 'Panevezys']\n",
      "['Vilnius', 'Kaunas', 'Siauliai', 'Marijampole', 'Panevezys', 'Marijampole']\n"
     ]
    },
    {
     "data": {
      "text/plain": [
       "'Marijampole'"
      ]
     },
     "execution_count": 90,
     "metadata": {},
     "output_type": "execute_result"
    }
   ],
   "source": [
    "cities.append('Marijampole')\n",
    "cities.append('Panevezys') # prideda kiekviena karta paleidus\n",
    "print(cities)\n",
    "cities.pop()\n",
    "print(cities)\n",
    "cities.pop()"
   ]
  },
  {
   "cell_type": "code",
   "execution_count": 93,
   "metadata": {},
   "outputs": [
    {
     "name": "stdout",
     "output_type": "stream",
     "text": [
      "['Vilnius', 'Kaunas', 'Siauliai', 'Marijampole', 'Panevezys']\n",
      "po extend\n",
      "7 ['Vilnius', 'Kaunas', 'Siauliai', 'Marijampole', 'Panevezys', 'New York', 'London']\n",
      "po append\n",
      "6 ['Vilnius', 'Kaunas', 'Siauliai', 'Marijampole', 'Panevezys', ['New York', 'London']]\n"
     ]
    },
    {
     "data": {
      "text/plain": [
       "['New York', 'London']"
      ]
     },
     "execution_count": 93,
     "metadata": {},
     "output_type": "execute_result"
    }
   ],
   "source": [
    "new_cities = ['New York', 'London']\n",
    "print(cities)\n",
    "cities.extend( new_cities )\n",
    "print ('po extend')\n",
    "print(len(cities),  cities)\n",
    "cities.pop()\n",
    "cities.pop()\n",
    "cities.append( new_cities )\n",
    "print ('po append')\n",
    "print(len(cities), cities)\n",
    "cities.pop()"
   ]
  },
  {
   "cell_type": "code",
   "execution_count": 94,
   "metadata": {},
   "outputs": [
    {
     "name": "stdout",
     "output_type": "stream",
     "text": [
      "[]\n"
     ]
    }
   ],
   "source": [
    "cities.clear()\n",
    "print (cities)"
   ]
  },
  {
   "cell_type": "code",
   "execution_count": 102,
   "metadata": {},
   "outputs": [
    {
     "name": "stdout",
     "output_type": "stream",
     "text": [
      "2\n",
      "0\n",
      "1\n"
     ]
    }
   ],
   "source": [
    "cities = ['Vilnius', 'Kaunas', 'Siauliai', 'Marijampole', 'Panevezys', 'Panevezys']\n",
    "# cities = ['Vilnius', 'Kaunas', 'Siauliai', 'Marijampole', 'Panevezys', ['Panevezys', 'Panevezys'] ]\n",
    "print (cities.count('Panevezys'))\n",
    "print (cities.count('Pan'))\n",
    "print (cities.count('Vilnius'))"
   ]
  },
  {
   "cell_type": "code",
   "execution_count": 103,
   "metadata": {},
   "outputs": [
    {
     "name": "stdout",
     "output_type": "stream",
     "text": [
      "4\n"
     ]
    },
    {
     "ename": "ValueError",
     "evalue": "'Klaipeda' is not in list",
     "output_type": "error",
     "traceback": [
      "\u001b[1;31m---------------------------------------------------------------------------\u001b[0m",
      "\u001b[1;31mValueError\u001b[0m                                Traceback (most recent call last)",
      "\u001b[1;32mc:\\Users\\Robotux\\Documents\\Python\\20220105VCSDMAVAK\\paskaita_2.ipynb Cell 31'\u001b[0m in \u001b[0;36m<module>\u001b[1;34m\u001b[0m\n\u001b[0;32m      <a href='vscode-notebook-cell:/c%3A/Users/Robotux/Documents/Python/20220105VCSDMAVAK/paskaita_2.ipynb#ch0000031?line=0'>1</a>\u001b[0m \u001b[39mprint\u001b[39m (cities\u001b[39m.\u001b[39mindex(\u001b[39m'\u001b[39m\u001b[39mPanevezys\u001b[39m\u001b[39m'\u001b[39m) )\n\u001b[1;32m----> <a href='vscode-notebook-cell:/c%3A/Users/Robotux/Documents/Python/20220105VCSDMAVAK/paskaita_2.ipynb#ch0000031?line=1'>2</a>\u001b[0m \u001b[39mprint\u001b[39m (cities\u001b[39m.\u001b[39;49mindex(\u001b[39m'\u001b[39;49m\u001b[39mKlaipeda\u001b[39;49m\u001b[39m'\u001b[39;49m) )\n",
      "\u001b[1;31mValueError\u001b[0m: 'Klaipeda' is not in list"
     ]
    }
   ],
   "source": [
    "print (cities.index('Panevezys') )\n",
    "print (cities.index('Klaipeda') )"
   ]
  },
  {
   "cell_type": "code",
   "execution_count": 104,
   "metadata": {},
   "outputs": [
    {
     "name": "stdout",
     "output_type": "stream",
     "text": [
      "['Vilnius', 'Kaunas', 'Klaipeda', 'Siauliai', 'Marijampole', 'Panevezys', 'Panevezys']\n"
     ]
    }
   ],
   "source": [
    "cities.insert(2, 'Klaipeda')\n",
    "print (cities)"
   ]
  },
  {
   "cell_type": "code",
   "execution_count": 107,
   "metadata": {},
   "outputs": [
    {
     "name": "stdout",
     "output_type": "stream",
     "text": [
      "['Panevezys', 'Panevezys', 'Marijampole', 'Siauliai', 'Klaipeda', 'Kaunas', 'Vilnius']\n",
      "['Panevezys', 'Panevezys', 'Marijampole', 'Siauliai', 'Klaipeda', 'Kaunas', 'Vilnius']\n"
     ]
    }
   ],
   "source": [
    "cities.reverse()\n",
    "print (cities)\n",
    "print (cities)"
   ]
  },
  {
   "cell_type": "code",
   "execution_count": 109,
   "metadata": {},
   "outputs": [
    {
     "name": "stdout",
     "output_type": "stream",
     "text": [
      "['Panevezys', 'Panevezys', 'Marijampole', 'Siauliai', 'Klaipeda', 'Kaunas', 'Vilnius']\n"
     ]
    }
   ],
   "source": [
    "print (cities)"
   ]
  },
  {
   "cell_type": "code",
   "execution_count": 111,
   "metadata": {},
   "outputs": [
    {
     "name": "stdout",
     "output_type": "stream",
     "text": [
      "['Vilnius', 'Kaunas', 'Klaipeda', 'Siauliai', 'Marijampole', 'Panevezys', 'Panevezys']\n",
      "['Panevezys', 'Panevezys', 'Marijampole', 'Siauliai', 'Klaipeda', 'Kaunas', 'Vilnius']\n",
      "['Panevezys', 'Panevezys', 'Marijampole', 'Siauliai', 'Klaipeda', 'Kaunas', 'Vilnius']\n"
     ]
    }
   ],
   "source": [
    "print (cities[::-1] ) # apsuka sarasa, neperraso kintamojo\n",
    "print (cities )\n",
    "print (cities )"
   ]
  },
  {
   "cell_type": "code",
   "execution_count": 112,
   "metadata": {},
   "outputs": [],
   "source": [
    "numbers = [5614,984,479987,3453,1,2,14,0,111]"
   ]
  },
  {
   "cell_type": "code",
   "execution_count": 116,
   "metadata": {},
   "outputs": [
    {
     "name": "stdout",
     "output_type": "stream",
     "text": [
      "[0, 1, 2, 14, 111, 984, 3453, 5614, 479987]\n",
      "[479987, 5614, 3453, 984, 111, 14, 2, 1, 0]\n"
     ]
    }
   ],
   "source": [
    "numbers.sort() # didejimo\n",
    "print (numbers)\n",
    "numbers.sort(reverse=True) # mazejimo tvarka\n",
    "print (numbers)"
   ]
  },
  {
   "cell_type": "code",
   "execution_count": 122,
   "metadata": {},
   "outputs": [
    {
     "name": "stdout",
     "output_type": "stream",
     "text": [
      "False\n",
      "True\n",
      "True\n",
      "True\n",
      "False\n"
     ]
    }
   ],
   "source": [
    "print (bool( [] ) )\n",
    "print (bool( [5] ) )\n",
    "print (bool( [False, 0, ''] ) )\n",
    "print ('Vilnius' in cities )\n",
    "print ('Berlin' in cities )"
   ]
  },
  {
   "cell_type": "code",
   "execution_count": 126,
   "metadata": {},
   "outputs": [
    {
     "name": "stdout",
     "output_type": "stream",
     "text": [
      "[1, 3, 58, 'A', False]\n"
     ]
    }
   ],
   "source": [
    "my_list = [1,3,58] + ['A', False]\n",
    "print (my_list)\n",
    "# my_list = [1,3,58] - ['A', False]"
   ]
  },
  {
   "cell_type": "code",
   "execution_count": 128,
   "metadata": {},
   "outputs": [
    {
     "name": "stdout",
     "output_type": "stream",
     "text": [
      "['first', 3, 58, 'first', 3, 58, 'first', 3, 58, 'first', 3, 58, 'first', 3, 58, 'first', 3, 58, 'first', 3, 58, 'first', 3, 58, 'first', 3, 58, 'first', 3, 58, 'first', 3, 58, 'first', 3, 58, 'first', 3, 58, 'first', 3, 58, 'first', 3, 58, 'first', 3, 58, 'first', 3, 58, 'first', 3, 58, 'first', 3, 58, 'first', 3, 58, 'first', 3, 58, 'first', 3, 58, 'first', 3, 58, 'first', 3, 58, 'first', 3, 58, 'first', 3, 58, 'first', 3, 58, 'first', 3, 58, 'first', 3, 58, 'first', 3, 58, 'first', 3, 58, 'first', 3, 58, 'first', 3, 58, 'first', 3, 58, 'first', 3, 58, 'first', 3, 58, 'first', 3, 58, 'first', 3, 58, 'first', 3, 58, 'first', 3, 58, 'first', 3, 58, 'first', 3, 58, 'first', 3, 58, 'first', 3, 58, 'first', 3, 58, 'first', 3, 58, 'first', 3, 58, 'first', 3, 58, 'first', 3, 58, 'first', 3, 58]\n"
     ]
    }
   ],
   "source": [
    "my_list = ['first',3,58] * 50 \n",
    "print (my_list)"
   ]
  },
  {
   "cell_type": "markdown",
   "metadata": {},
   "source": [
    "# Mutable vs. Immutable variables"
   ]
  },
  {
   "cell_type": "code",
   "execution_count": 134,
   "metadata": {},
   "outputs": [
    {
     "name": "stdout",
     "output_type": "stream",
     "text": [
      "1438840390032\n",
      "1438840390032\n",
      "number_1: 6\n",
      "number_2: 13\n",
      "1438840390032\n",
      "1438840390256\n"
     ]
    }
   ],
   "source": [
    "# Immutable\n",
    "number_1 = 6\n",
    "number_2 = number_1\n",
    "print(id(number_1))\n",
    "print(id(number_2))\n",
    "number_2 = 13\n",
    "print('number_1:', number_1)\n",
    "print('number_2:', number_2)\n",
    "print(id(number_1))\n",
    "print(id(number_2))"
   ]
  },
  {
   "cell_type": "code",
   "execution_count": 136,
   "metadata": {},
   "outputs": [
    {
     "name": "stdout",
     "output_type": "stream",
     "text": [
      "1438952743360\n",
      "1438952743360\n",
      "numbers_1: [1, 5, 10, 13]\n",
      "numbers_2: [1, 5, 10, 13]\n",
      "1438952743360\n",
      "1438952743360\n"
     ]
    }
   ],
   "source": [
    "# mutable\n",
    "numbers_1 = [1,5,10]\n",
    "numbers_2 = numbers_1\n",
    "print(id(numbers_1))\n",
    "print(id(numbers_2))\n",
    "numbers_2.append(13)\n",
    "print('numbers_1:', numbers_1)\n",
    "print('numbers_2:', numbers_2)\n",
    "print(id(numbers_1))\n",
    "print(id(numbers_2))"
   ]
  },
  {
   "cell_type": "code",
   "execution_count": 137,
   "metadata": {},
   "outputs": [
    {
     "name": "stdout",
     "output_type": "stream",
     "text": [
      "1438952780480\n",
      "1438952837504\n",
      "numbers_1: [1, 5, 10]\n",
      "numbers_2: [1, 5, 10, 13]\n",
      "1438952780480\n",
      "1438952837504\n"
     ]
    }
   ],
   "source": [
    "# fix 1 for mutable variables\n",
    "numbers_1 = [1,5,10]\n",
    "numbers_2 = numbers_1.copy()\n",
    "print(id(numbers_1))\n",
    "print(id(numbers_2))\n",
    "numbers_2.append(13)\n",
    "print('numbers_1:', numbers_1)\n",
    "print('numbers_2:', numbers_2)\n",
    "print(id(numbers_1))\n",
    "print(id(numbers_2))"
   ]
  },
  {
   "cell_type": "code",
   "execution_count": 139,
   "metadata": {},
   "outputs": [
    {
     "name": "stdout",
     "output_type": "stream",
     "text": [
      "1438952747648\n",
      "1438952743168\n",
      "1438952742976\n",
      "1438952742976\n",
      "numbers_1: [1, 5, [10, 20, 13]]\n",
      "numbers_2: [1, 5, [10, 20, 13]]\n",
      "1438952747648\n",
      "1438952743168\n"
     ]
    }
   ],
   "source": [
    "numbers_1 = [1,5,[10, 20] ]\n",
    "numbers_2 = numbers_1.copy() # will fail\n",
    "print(id(numbers_1))\n",
    "print(id(numbers_2))\n",
    "print(id(numbers_1[2]))\n",
    "print(id(numbers_2[2]))\n",
    "numbers_2[2].append(13)\n",
    "print('numbers_1:', numbers_1)\n",
    "print('numbers_2:', numbers_2)\n",
    "print(id(numbers_1))\n",
    "print(id(numbers_2))"
   ]
  },
  {
   "cell_type": "code",
   "execution_count": 140,
   "metadata": {},
   "outputs": [
    {
     "name": "stdout",
     "output_type": "stream",
     "text": [
      "1438952743360\n",
      "1438952772608\n",
      "1438952744512\n",
      "1438952833536\n",
      "numbers_1: [1, 5, [10, 20]]\n",
      "numbers_2: [1, 5, [10, 20, 13]]\n",
      "1438952743360\n",
      "1438952772608\n"
     ]
    }
   ],
   "source": [
    "# Best fix for mutable variables\n",
    "import copy\n",
    "\n",
    "numbers_1 = [1,5,[10, 20] ]\n",
    "numbers_2 = copy.deepcopy( numbers_1 )\n",
    "print(id(numbers_1))\n",
    "print(id(numbers_2))\n",
    "print(id(numbers_1[2]))\n",
    "print(id(numbers_2[2]))\n",
    "numbers_2[2].append(13)\n",
    "print('numbers_1:', numbers_1)\n",
    "print('numbers_2:', numbers_2)\n",
    "print(id(numbers_1))\n",
    "print(id(numbers_2))"
   ]
  },
  {
   "cell_type": "code",
   "execution_count": 141,
   "metadata": {},
   "outputs": [
    {
     "name": "stdout",
     "output_type": "stream",
     "text": [
      "['mama', 'tetis', 'mociute']\n",
      "3\n",
      "['mama', 'tetis', 'mociute', 'senelis']\n"
     ]
    }
   ],
   "source": [
    "sarasas=[\"mama\", 'tetis', 'mociute']\n",
    "print(sarasas)\n",
    "print(len(sarasas))\n",
    "sarasas.append('senelis')\n",
    "print(sarasas)"
   ]
  },
  {
   "cell_type": "code",
   "execution_count": 142,
   "metadata": {},
   "outputs": [
    {
     "name": "stdout",
     "output_type": "stream",
     "text": [
      "[1, 3, 'labas', 'geras', 'rytas']\n",
      "<class 'list'>\n",
      "5\n",
      "True\n"
     ]
    }
   ],
   "source": [
    "sarasas = [1,3,'labas', 'geras']\n",
    "sarasas.append('rytas')\n",
    "print(sarasas)\n",
    "print(type(sarasas))\n",
    "print(len(sarasas))\n",
    "print('geras' in sarasas)\n"
   ]
  },
  {
   "cell_type": "code",
   "execution_count": 143,
   "metadata": {},
   "outputs": [
    {
     "name": "stdout",
     "output_type": "stream",
     "text": [
      "4\n",
      "['pomidoras', 'desra', 'avokadas', 'sausainis', 'salota']\n",
      "True\n"
     ]
    }
   ],
   "source": [
    "pirkiniai = ['pomidoras', 'desra', 'avokadas', 'sausainis']\n",
    "print (len(pirkiniai))\n",
    "pirkiniai.append('salota')\n",
    "print(pirkiniai)\n",
    "\n",
    "print ('desra' in pirkiniai)\n"
   ]
  },
  {
   "cell_type": "code",
   "execution_count": 152,
   "metadata": {},
   "outputs": [
    {
     "name": "stdout",
     "output_type": "stream",
     "text": [
      "[1, 5, 3, 9, 4, 7, 9, 9]\n",
      "[1, 5, 3, 9, 4, 7, 9]\n",
      "[1, 3, 4, 5, 7, 9, 9]\n",
      "2\n"
     ]
    }
   ],
   "source": [
    "list_1 = [1,5,3,9] + [4,7,9,9]\n",
    "print (list_1)\n",
    "list_1.pop()\n",
    "print (list_1)\n",
    "list_1.sort()\n",
    "print (list_1)\n",
    "print (list_1.count(9) )"
   ]
  },
  {
   "cell_type": "code",
   "execution_count": 158,
   "metadata": {},
   "outputs": [
    {
     "name": "stdout",
     "output_type": "stream",
     "text": [
      "[1, [[5416, 3], 521, 4], 54]\n",
      "[[5416, 3], 521, 4]\n",
      "[5416, 3]\n",
      "3\n"
     ]
    }
   ],
   "source": [
    "my_list_2 = [1, [[5416, 3], 521,4], 54]\n",
    "print(my_list_2)\n",
    "print(my_list_2[1])\n",
    "print(my_list_2[1][0])\n",
    "print(my_list_2[1][0][1])"
   ]
  },
  {
   "cell_type": "markdown",
   "metadata": {},
   "source": [
    "# Tuple"
   ]
  },
  {
   "cell_type": "code",
   "execution_count": 174,
   "metadata": {},
   "outputs": [],
   "source": [
    "my_tuple = (1,2,3)"
   ]
  },
  {
   "cell_type": "code",
   "execution_count": 175,
   "metadata": {},
   "outputs": [
    {
     "name": "stdout",
     "output_type": "stream",
     "text": [
      "(1, 2, 3)\n",
      "2\n",
      "(1, 2)\n"
     ]
    }
   ],
   "source": [
    "print (my_tuple)\n",
    "print (my_tuple[1])\n",
    "print (my_tuple[:2])"
   ]
  },
  {
   "cell_type": "code",
   "execution_count": 176,
   "metadata": {},
   "outputs": [
    {
     "name": "stdout",
     "output_type": "stream",
     "text": [
      "1\n",
      "2\n"
     ]
    }
   ],
   "source": [
    "print(my_tuple.count(3) )\n",
    "print(my_tuple.index(3) )"
   ]
  },
  {
   "cell_type": "code",
   "execution_count": 177,
   "metadata": {},
   "outputs": [
    {
     "name": "stdout",
     "output_type": "stream",
     "text": [
      "(1, 2, 3, 5, 10)\n"
     ]
    }
   ],
   "source": [
    "# my_tuple[2] = 5 # neveiks\n",
    "my_tuple = my_tuple + (5,10)\n",
    "print(my_tuple)"
   ]
  },
  {
   "cell_type": "code",
   "execution_count": 178,
   "metadata": {},
   "outputs": [
    {
     "ename": "AttributeError",
     "evalue": "'tuple' object has no attribute 'append'",
     "output_type": "error",
     "traceback": [
      "\u001b[1;31m---------------------------------------------------------------------------\u001b[0m",
      "\u001b[1;31mAttributeError\u001b[0m                            Traceback (most recent call last)",
      "\u001b[1;32mc:\\Users\\Robotux\\Documents\\Python\\20220105VCSDMAVAK\\paskaita_2.ipynb Cell 57'\u001b[0m in \u001b[0;36m<module>\u001b[1;34m\u001b[0m\n\u001b[1;32m----> <a href='vscode-notebook-cell:/c%3A/Users/Robotux/Documents/Python/20220105VCSDMAVAK/paskaita_2.ipynb#ch0000057?line=0'>1</a>\u001b[0m my_tuple\u001b[39m.\u001b[39;49mappend(\u001b[39m5\u001b[39m)\n",
      "\u001b[1;31mAttributeError\u001b[0m: 'tuple' object has no attribute 'append'"
     ]
    }
   ],
   "source": [
    "my_tuple.append(5)"
   ]
  },
  {
   "cell_type": "code",
   "execution_count": 181,
   "metadata": {},
   "outputs": [
    {
     "name": "stdout",
     "output_type": "stream",
     "text": [
      "(1, 4, 4, 5, 5, 5)\n",
      "True\n"
     ]
    }
   ],
   "source": [
    "combined = (1,4,4) + (5,5,5)\n",
    "print (combined)\n",
    "print (5 in combined)"
   ]
  },
  {
   "cell_type": "code",
   "execution_count": 183,
   "metadata": {},
   "outputs": [
    {
     "name": "stdout",
     "output_type": "stream",
     "text": [
      "(1, 5, [4, 8])\n"
     ]
    }
   ],
   "source": [
    "my_tuple_2 = ( 1,5,[4,8])\n",
    "print (my_tuple_2)"
   ]
  },
  {
   "cell_type": "code",
   "execution_count": 184,
   "metadata": {},
   "outputs": [
    {
     "name": "stdout",
     "output_type": "stream",
     "text": [
      "(1, 5, [4, 8, 100])\n"
     ]
    }
   ],
   "source": [
    "my_tuple_2[2].append(100)\n",
    "print (my_tuple_2)"
   ]
  },
  {
   "cell_type": "code",
   "execution_count": 189,
   "metadata": {},
   "outputs": [
    {
     "name": "stdout",
     "output_type": "stream",
     "text": [
      "8\n",
      "8\n"
     ]
    }
   ],
   "source": [
    "my_tuple = (1, 2, ['3', 4, 5], [6, [7, (8)]])\n",
    "print(my_tuple[3][1][1] )\n",
    "print(my_tuple[-1][-1][-1] )"
   ]
  },
  {
   "cell_type": "code",
   "execution_count": 193,
   "metadata": {},
   "outputs": [
    {
     "name": "stdout",
     "output_type": "stream",
     "text": [
      "(11, [222, 22], 44, 55)\n"
     ]
    }
   ],
   "source": [
    "tuple_1 = (11, [222, 33], 44, 55)\n",
    "# tuple_1[1] = [222, 22] # neveiks\n",
    "tuple_1[1][-1] = 22\n",
    "print (tuple_1)\n"
   ]
  },
  {
   "cell_type": "code",
   "execution_count": 195,
   "metadata": {},
   "outputs": [
    {
     "name": "stdout",
     "output_type": "stream",
     "text": [
      "[11, [222, 33], 44, 55]\n",
      "(11, [222, 22], 44, 55)\n"
     ]
    }
   ],
   "source": [
    "# 2 budas\n",
    "tuple_1 = (11, [222, 33], 44, 55)\n",
    "tmp_list = list(tuple_1)\n",
    "print(tmp_list)\n",
    "tmp_list[1] = [222, 22]\n",
    "tuple_1 = tuple(tmp_list)\n",
    "print (tuple_1)"
   ]
  },
  {
   "cell_type": "code",
   "execution_count": 199,
   "metadata": {},
   "outputs": [
    {
     "name": "stdout",
     "output_type": "stream",
     "text": [
      "<class 'tuple'>\n",
      "<class 'tuple'>\n"
     ]
    }
   ],
   "source": [
    "print (type(tuple_1))\n",
    "print (type( () ))"
   ]
  },
  {
   "cell_type": "markdown",
   "metadata": {},
   "source": [
    "# Range"
   ]
  },
  {
   "cell_type": "code",
   "execution_count": 203,
   "metadata": {},
   "outputs": [
    {
     "name": "stdout",
     "output_type": "stream",
     "text": [
      "<class 'range'>\n",
      "range(54, 158, 3)\n",
      "[54, 57, 60, 63, 66, 69, 72, 75, 78, 81, 84, 87, 90, 93, 96, 99, 102, 105, 108, 111, 114, 117, 120, 123, 126, 129, 132, 135, 138, 141, 144, 147, 150, 153, 156]\n"
     ]
    }
   ],
   "source": [
    "my_numbers = range(54, 158, 3)\n",
    "print (type(my_numbers) )\n",
    "print (my_numbers)\n",
    "print ( list(my_numbers) )"
   ]
  },
  {
   "cell_type": "code",
   "execution_count": 206,
   "metadata": {},
   "outputs": [
    {
     "name": "stdout",
     "output_type": "stream",
     "text": [
      "[50, 43, 36, 29, 22, 15, 8, 1, -6, -13, -20, -27, -34, -41, -48, -55, -62, -69, -76, -83, -90, -97, -104, -111, -118, -125, -132, -139, -146, -153]\n",
      "[20, 22, 24, 26, 28, 30, 32, 34, 36, 38, 40, 42, 44, 46, 48, 50, 52, 54, 56, 58, 60, 62, 64, 66, 68, 70, 72, 74, 76, 78, 80]\n"
     ]
    }
   ],
   "source": [
    "print (list( range(50, -158, -7) ))\n",
    "print (list( range(20, 81, 2) ))"
   ]
  },
  {
   "cell_type": "code",
   "execution_count": 207,
   "metadata": {},
   "outputs": [
    {
     "data": {
      "text/plain": [
       "['Panevezys',\n",
       " 'Panevezys',\n",
       " 'Marijampole',\n",
       " 'Siauliai',\n",
       " 'Klaipeda',\n",
       " 'Kaunas',\n",
       " 'Vilnius']"
      ]
     },
     "execution_count": 207,
     "metadata": {},
     "output_type": "execute_result"
    }
   ],
   "source": [
    "cities"
   ]
  },
  {
   "cell_type": "code",
   "execution_count": 215,
   "metadata": {},
   "outputs": [
    {
     "name": "stdout",
     "output_type": "stream",
     "text": [
      "[3, 5, 7, 9]\n",
      "ciklas prasidejo\n",
      "3\n",
      "ciklas prasidejo\n",
      "5\n",
      "ciklas prasidejo\n",
      "7\n",
      "ciklas prasidejo\n",
      "9\n",
      "pabaiga\n"
     ]
    }
   ],
   "source": [
    "print (list(range(3,11,2)))\n",
    "for number in range(3,11,2):\n",
    "    print ('ciklas prasidejo')\n",
    "    print (number)\n",
    "print ('pabaiga')"
   ]
  },
  {
   "cell_type": "code",
   "execution_count": null,
   "metadata": {},
   "outputs": [],
   "source": []
  }
 ],
 "metadata": {
  "interpreter": {
   "hash": "ce3f3f42ea1e24236ee7d8b6e939f07d74c5d5b656410ea2a0e47f46c58e1c3f"
  },
  "kernelspec": {
   "display_name": "Python 3.10.2 64-bit",
   "language": "python",
   "name": "python3"
  },
  "language_info": {
   "codemirror_mode": {
    "name": "ipython",
    "version": 3
   },
   "file_extension": ".py",
   "mimetype": "text/x-python",
   "name": "python",
   "nbconvert_exporter": "python",
   "pygments_lexer": "ipython3",
   "version": "3.10.2"
  },
  "orig_nbformat": 4
 },
 "nbformat": 4,
 "nbformat_minor": 2
}
