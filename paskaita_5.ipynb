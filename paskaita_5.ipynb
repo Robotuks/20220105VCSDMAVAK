{
 "cells": [
  {
   "cell_type": "code",
   "execution_count": 3,
   "metadata": {},
   "outputs": [],
   "source": [
    "import math"
   ]
  },
  {
   "cell_type": "code",
   "execution_count": 4,
   "metadata": {},
   "outputs": [
    {
     "ename": "ImportError",
     "evalue": "cannot import name 'cude' from 'math' (unknown location)",
     "output_type": "error",
     "traceback": [
      "\u001b[1;31m---------------------------------------------------------------------------\u001b[0m",
      "\u001b[1;31mImportError\u001b[0m                               Traceback (most recent call last)",
      "\u001b[1;32mc:\\Users\\Robotux\\Documents\\Python\\20220105VCSDMAVAK\\paskaita_5.ipynb Cell 2'\u001b[0m in \u001b[0;36m<module>\u001b[1;34m\u001b[0m\n\u001b[1;32m----> <a href='vscode-notebook-cell:/c%3A/Users/Robotux/Documents/Python/20220105VCSDMAVAK/paskaita_5.ipynb#ch0000001?line=0'>1</a>\u001b[0m \u001b[39mfrom\u001b[39;00m \u001b[39mmath\u001b[39;00m \u001b[39mimport\u001b[39;00m sin,cos, cude\n",
      "\u001b[1;31mImportError\u001b[0m: cannot import name 'cude' from 'math' (unknown location)"
     ]
    }
   ],
   "source": [
    "from math import sin,cos, cude"
   ]
  },
  {
   "cell_type": "code",
   "execution_count": 5,
   "metadata": {},
   "outputs": [
    {
     "ename": "TypeError",
     "evalue": "can only concatenate str (not \"int\") to str",
     "output_type": "error",
     "traceback": [
      "\u001b[1;31m---------------------------------------------------------------------------\u001b[0m",
      "\u001b[1;31mTypeError\u001b[0m                                 Traceback (most recent call last)",
      "\u001b[1;32mc:\\Users\\Robotux\\Documents\\Python\\20220105VCSDMAVAK\\paskaita_5.ipynb Cell 3'\u001b[0m in \u001b[0;36m<module>\u001b[1;34m\u001b[0m\n\u001b[1;32m----> <a href='vscode-notebook-cell:/c%3A/Users/Robotux/Documents/Python/20220105VCSDMAVAK/paskaita_5.ipynb#ch0000003?line=0'>1</a>\u001b[0m \u001b[39m'\u001b[39;49m\u001b[39m5\u001b[39;49m\u001b[39m'\u001b[39;49m \u001b[39m+\u001b[39;49m \u001b[39m5\u001b[39;49m\n",
      "\u001b[1;31mTypeError\u001b[0m: can only concatenate str (not \"int\") to str"
     ]
    }
   ],
   "source": [
    "'5' + 5"
   ]
  },
  {
   "cell_type": "code",
   "execution_count": 6,
   "metadata": {},
   "outputs": [],
   "source": [
    "def add_2(a, b):\n",
    "    if not isinstance(a, int):\n",
    "        raise ValueError('Kintamojo a reiksme netinkama, turi buti sveikasis skaicius.')\n",
    "    if not isinstance(b, int):\n",
    "        raise ValueError('Kintamojo b reiksme netinkama, turi buti sveikasis skaicius.')\n",
    "    return a + b"
   ]
  },
  {
   "cell_type": "code",
   "execution_count": 8,
   "metadata": {},
   "outputs": [
    {
     "name": "stdout",
     "output_type": "stream",
     "text": [
      "7\n"
     ]
    },
    {
     "ename": "ValueError",
     "evalue": "Kintamojo b reiksme netinkama, turi buti sveikasis skaicius.",
     "output_type": "error",
     "traceback": [
      "\u001b[1;31m---------------------------------------------------------------------------\u001b[0m",
      "\u001b[1;31mValueError\u001b[0m                                Traceback (most recent call last)",
      "\u001b[1;32mc:\\Users\\Robotux\\Documents\\Python\\20220105VCSDMAVAK\\paskaita_5.ipynb Cell 5'\u001b[0m in \u001b[0;36m<module>\u001b[1;34m\u001b[0m\n\u001b[0;32m      <a href='vscode-notebook-cell:/c%3A/Users/Robotux/Documents/Python/20220105VCSDMAVAK/paskaita_5.ipynb#ch0000005?line=0'>1</a>\u001b[0m \u001b[39mprint\u001b[39m (add_2(\u001b[39m2\u001b[39m,\u001b[39m5\u001b[39m) )\n\u001b[1;32m----> <a href='vscode-notebook-cell:/c%3A/Users/Robotux/Documents/Python/20220105VCSDMAVAK/paskaita_5.ipynb#ch0000005?line=1'>2</a>\u001b[0m \u001b[39mprint\u001b[39m( add_2(\u001b[39m5\u001b[39;49m,\u001b[39m'\u001b[39;49m\u001b[39m7\u001b[39;49m\u001b[39m'\u001b[39;49m))\n",
      "\u001b[1;32mc:\\Users\\Robotux\\Documents\\Python\\20220105VCSDMAVAK\\paskaita_5.ipynb Cell 4'\u001b[0m in \u001b[0;36madd_2\u001b[1;34m(a, b)\u001b[0m\n\u001b[0;32m      <a href='vscode-notebook-cell:/c%3A/Users/Robotux/Documents/Python/20220105VCSDMAVAK/paskaita_5.ipynb#ch0000004?line=2'>3</a>\u001b[0m     \u001b[39mraise\u001b[39;00m \u001b[39mValueError\u001b[39;00m(\u001b[39m'\u001b[39m\u001b[39mKintamojo a reiksme netinkama, turi buti sveikasis skaicius.\u001b[39m\u001b[39m'\u001b[39m)\n\u001b[0;32m      <a href='vscode-notebook-cell:/c%3A/Users/Robotux/Documents/Python/20220105VCSDMAVAK/paskaita_5.ipynb#ch0000004?line=3'>4</a>\u001b[0m \u001b[39mif\u001b[39;00m \u001b[39mnot\u001b[39;00m \u001b[39misinstance\u001b[39m(b, \u001b[39mint\u001b[39m):\n\u001b[1;32m----> <a href='vscode-notebook-cell:/c%3A/Users/Robotux/Documents/Python/20220105VCSDMAVAK/paskaita_5.ipynb#ch0000004?line=4'>5</a>\u001b[0m     \u001b[39mraise\u001b[39;00m \u001b[39mValueError\u001b[39;00m(\u001b[39m'\u001b[39m\u001b[39mKintamojo b reiksme netinkama, turi buti sveikasis skaicius.\u001b[39m\u001b[39m'\u001b[39m)\n\u001b[0;32m      <a href='vscode-notebook-cell:/c%3A/Users/Robotux/Documents/Python/20220105VCSDMAVAK/paskaita_5.ipynb#ch0000004?line=5'>6</a>\u001b[0m \u001b[39mreturn\u001b[39;00m a \u001b[39m+\u001b[39m b\n",
      "\u001b[1;31mValueError\u001b[0m: Kintamojo b reiksme netinkama, turi buti sveikasis skaicius."
     ]
    }
   ],
   "source": [
    "print (add_2(2,5) )\n",
    "print( add_2(5,'7'))"
   ]
  },
  {
   "cell_type": "markdown",
   "metadata": {},
   "source": [
    "# Try/except\n"
   ]
  },
  {
   "cell_type": "code",
   "execution_count": 13,
   "metadata": {},
   "outputs": [
    {
     "name": "stdout",
     "output_type": "stream",
     "text": [
      "try pradzia\n"
     ]
    },
    {
     "ename": "TypeError",
     "evalue": "can only concatenate str (not \"int\") to str",
     "output_type": "error",
     "traceback": [
      "\u001b[1;31m---------------------------------------------------------------------------\u001b[0m",
      "\u001b[1;31mTypeError\u001b[0m                                 Traceback (most recent call last)",
      "\u001b[1;32mc:\\Users\\Robotux\\Documents\\Python\\20220105VCSDMAVAK\\paskaita_5.ipynb Cell 7'\u001b[0m in \u001b[0;36m<module>\u001b[1;34m\u001b[0m\n\u001b[0;32m      <a href='vscode-notebook-cell:/c%3A/Users/Robotux/Documents/Python/20220105VCSDMAVAK/paskaita_5.ipynb#ch0000009?line=1'>2</a>\u001b[0m \u001b[39mprint\u001b[39m(\u001b[39m'\u001b[39m\u001b[39mtry pradzia\u001b[39m\u001b[39m'\u001b[39m)\n\u001b[0;32m      <a href='vscode-notebook-cell:/c%3A/Users/Robotux/Documents/Python/20220105VCSDMAVAK/paskaita_5.ipynb#ch0000009?line=2'>3</a>\u001b[0m x \u001b[39m=\u001b[39m \u001b[39m32\u001b[39m\n\u001b[1;32m----> <a href='vscode-notebook-cell:/c%3A/Users/Robotux/Documents/Python/20220105VCSDMAVAK/paskaita_5.ipynb#ch0000009?line=3'>4</a>\u001b[0m y \u001b[39m=\u001b[39m \u001b[39m'\u001b[39;49m\u001b[39m6\u001b[39;49m\u001b[39m'\u001b[39;49m \u001b[39m+\u001b[39;49m \u001b[39m32\u001b[39;49m\n\u001b[0;32m      <a href='vscode-notebook-cell:/c%3A/Users/Robotux/Documents/Python/20220105VCSDMAVAK/paskaita_5.ipynb#ch0000009?line=4'>5</a>\u001b[0m \u001b[39mprint\u001b[39m (x)\n\u001b[0;32m      <a href='vscode-notebook-cell:/c%3A/Users/Robotux/Documents/Python/20220105VCSDMAVAK/paskaita_5.ipynb#ch0000009?line=5'>6</a>\u001b[0m \u001b[39mprint\u001b[39m (\u001b[39m'\u001b[39m\u001b[39mtry pabaiga\u001b[39m\u001b[39m'\u001b[39m)\n",
      "\u001b[1;31mTypeError\u001b[0m: can only concatenate str (not \"int\") to str"
     ]
    }
   ],
   "source": [
    "\n",
    "# try:\n",
    "print('try pradzia')\n",
    "x = 32\n",
    "y = '6' + 32\n",
    "print (x)\n",
    "print ('try pabaiga')\n",
    "# except Exception:\n",
    "    # print ('Except dalis')\n",
    "\n",
    "print('po try/except')"
   ]
  },
  {
   "cell_type": "code",
   "execution_count": 15,
   "metadata": {},
   "outputs": [
    {
     "name": "stdout",
     "output_type": "stream",
     "text": [
      "Except dalis\n",
      "po try/except\n"
     ]
    }
   ],
   "source": [
    "\n",
    "try:\n",
    "    z = 5 / 0\n",
    "    print('try pradzia')\n",
    "    x = 32\n",
    "    y = '6' + 32\n",
    "    print (x)\n",
    "    print ('try pabaiga')\n",
    "except Exception:\n",
    "    print ('Except dalis')\n",
    "\n",
    "print('po try/except')"
   ]
  },
  {
   "cell_type": "code",
   "execution_count": 17,
   "metadata": {},
   "outputs": [
    {
     "name": "stdout",
     "output_type": "stream",
     "text": [
      "try pradzia\n",
      "TypeError except dalis\n",
      "po try/except\n"
     ]
    }
   ],
   "source": [
    "try:\n",
    "    # z = 5 / 0\n",
    "    print('try pradzia')\n",
    "    x = 32\n",
    "    y = '6' + 32\n",
    "    print (x)\n",
    "    print ('try pabaiga')\n",
    "except ZeroDivisionError:\n",
    "    print ('ZeroDivisionError except dalis')\n",
    "except TypeError:\n",
    "    print ('TypeError except dalis')\n",
    "\n",
    "print('po try/except')"
   ]
  },
  {
   "cell_type": "code",
   "execution_count": 19,
   "metadata": {},
   "outputs": [
    {
     "name": "stdout",
     "output_type": "stream",
     "text": [
      "ZeroDivisionError except dalis\n",
      "division by zero\n",
      "po try/except\n"
     ]
    }
   ],
   "source": [
    "try:\n",
    "    # z = 5 / 0\n",
    "    print('try pradzia')\n",
    "    x = 32\n",
    "    y = '6' + 32\n",
    "    print (x)\n",
    "    print ('try pabaiga')\n",
    "except ZeroDivisionError as e:\n",
    "    print ('ZeroDivisionError except dalis')\n",
    "    print (e)\n",
    "except TypeError as e:\n",
    "    print ('TypeError except dalis')\n",
    "    print (e)\n",
    "\n",
    "print('po try/except')"
   ]
  },
  {
   "cell_type": "code",
   "execution_count": 20,
   "metadata": {},
   "outputs": [],
   "source": [
    "k = 0\n",
    "\n",
    "if k == 0:\n",
    "    k = 1\n",
    "\n",
    "z = 5 / k"
   ]
  },
  {
   "cell_type": "code",
   "execution_count": 21,
   "metadata": {},
   "outputs": [],
   "source": [
    "a = '6'\n",
    "if not isinstance(a, int):\n",
    "    a =  int(a)\n",
    "\n",
    "y = a + 10"
   ]
  },
  {
   "cell_type": "code",
   "execution_count": 26,
   "metadata": {},
   "outputs": [
    {
     "name": "stdout",
     "output_type": "stream",
     "text": [
      "try pradzia\n",
      "TypeError except dalis\n",
      "Traceback (most recent call last):\n",
      "  File \"C:\\Users\\Robotux\\AppData\\Local\\Temp\\ipykernel_29208\\2984914855.py\", line 7, in <module>\n",
      "    y = '6' + 32\n",
      "TypeError: can only concatenate str (not \"int\") to str\n",
      "\n",
      " po visko \n"
     ]
    }
   ],
   "source": [
    "import traceback\n",
    "\n",
    "try:\n",
    "    # z = 5 / 0\n",
    "    print('try pradzia')\n",
    "    x = 32\n",
    "    y = '6' + 32\n",
    "    print (x)\n",
    "    print ('try pabaiga')\n",
    "except ZeroDivisionError as e:\n",
    "    print ('ZeroDivisionError except dalis')\n",
    "    print (traceback.format_exc())\n",
    "    # print (e)\n",
    "except TypeError as e:\n",
    "    print ('TypeError except dalis')\n",
    "    print (traceback.format_exc())\n",
    "    # traceback.print_exc()\n",
    "    # print (e)\n",
    "\n",
    "print (' po visko ')"
   ]
  },
  {
   "cell_type": "code",
   "execution_count": 27,
   "metadata": {},
   "outputs": [],
   "source": [
    "import os"
   ]
  },
  {
   "cell_type": "code",
   "execution_count": 28,
   "metadata": {},
   "outputs": [
    {
     "data": {
      "text/plain": [
       "'c:\\\\Users\\\\Robotux\\\\Documents\\\\Python\\\\20220105VCSDMAVAK'"
      ]
     },
     "execution_count": 28,
     "metadata": {},
     "output_type": "execute_result"
    }
   ],
   "source": [
    "os.getcwd()"
   ]
  },
  {
   "cell_type": "code",
   "execution_count": 29,
   "metadata": {},
   "outputs": [
    {
     "data": {
      "text/plain": [
       "['.git',\n",
       " '.gitignore',\n",
       " 'paskaita_1.ipynb',\n",
       " 'paskaita_2.ipynb',\n",
       " 'paskaita_3.ipynb',\n",
       " 'paskaita_4.ipynb',\n",
       " 'paskaita_5.ipynb',\n",
       " 'README.md',\n",
       " 'test.py',\n",
       " 'test.txt']"
      ]
     },
     "execution_count": 29,
     "metadata": {},
     "output_type": "execute_result"
    }
   ],
   "source": [
    "os.listdir()"
   ]
  },
  {
   "cell_type": "code",
   "execution_count": 30,
   "metadata": {},
   "outputs": [
    {
     "data": {
      "text/plain": [
       "['COMMIT_EDITMSG',\n",
       " 'config',\n",
       " 'description',\n",
       " 'FETCH_HEAD',\n",
       " 'HEAD',\n",
       " 'hooks',\n",
       " 'index',\n",
       " 'info',\n",
       " 'logs',\n",
       " 'objects',\n",
       " 'packed-refs',\n",
       " 'refs']"
      ]
     },
     "execution_count": 30,
     "metadata": {},
     "output_type": "execute_result"
    }
   ],
   "source": [
    "os.listdir('.git')"
   ]
  },
  {
   "cell_type": "code",
   "execution_count": 31,
   "metadata": {},
   "outputs": [
    {
     "data": {
      "text/plain": [
       "['20211109VCSPYTB2B',\n",
       " '20220105VCSDMAVAK',\n",
       " '20220111VCSPYTVAK',\n",
       " 'Capture.PNG',\n",
       " 'Capture_2.PNG',\n",
       " 'fdsg.PNG',\n",
       " 'sdf.PNG',\n",
       " 'tmp.ipynb']"
      ]
     },
     "execution_count": 31,
     "metadata": {},
     "output_type": "execute_result"
    }
   ],
   "source": [
    "os.listdir('c:\\\\Users\\\\Robotux\\\\Documents\\\\Python')"
   ]
  },
  {
   "cell_type": "code",
   "execution_count": 32,
   "metadata": {},
   "outputs": [],
   "source": [
    "os.chdir('../')"
   ]
  },
  {
   "cell_type": "code",
   "execution_count": 33,
   "metadata": {},
   "outputs": [
    {
     "data": {
      "text/plain": [
       "'c:\\\\Users\\\\Robotux\\\\Documents\\\\Python'"
      ]
     },
     "execution_count": 33,
     "metadata": {},
     "output_type": "execute_result"
    }
   ],
   "source": [
    "os.getcwd()"
   ]
  },
  {
   "cell_type": "code",
   "execution_count": 34,
   "metadata": {},
   "outputs": [
    {
     "data": {
      "text/plain": [
       "'c:\\\\Users\\\\Robotux\\\\Documents\\\\Python\\\\20220105VCSDMAVAK'"
      ]
     },
     "execution_count": 34,
     "metadata": {},
     "output_type": "execute_result"
    }
   ],
   "source": [
    "os.chdir('c:\\\\Users\\\\Robotux\\\\Documents\\\\Python\\\\20220105VCSDMAVAK')\n",
    "os.getcwd()"
   ]
  },
  {
   "cell_type": "code",
   "execution_count": 37,
   "metadata": {},
   "outputs": [],
   "source": [
    "os.makedirs('a/b/c/d')"
   ]
  },
  {
   "cell_type": "code",
   "execution_count": 39,
   "metadata": {},
   "outputs": [],
   "source": [
    "os.removedirs('a/b/c/d') # remove empty folders"
   ]
  },
  {
   "cell_type": "code",
   "execution_count": 41,
   "metadata": {},
   "outputs": [
    {
     "name": "stdout",
     "output_type": "stream",
     "text": [
      "testinis dokumentas\n",
      "6489\n",
      "Hello world\n"
     ]
    },
    {
     "ename": "ValueError",
     "evalue": "I/O operation on closed file.",
     "output_type": "error",
     "traceback": [
      "\u001b[1;31m---------------------------------------------------------------------------\u001b[0m",
      "\u001b[1;31mValueError\u001b[0m                                Traceback (most recent call last)",
      "\u001b[1;32mc:\\Users\\Robotux\\Documents\\Python\\20220105VCSDMAVAK\\paskaita_5.ipynb Cell 24'\u001b[0m in \u001b[0;36m<module>\u001b[1;34m\u001b[0m\n\u001b[0;32m      <a href='vscode-notebook-cell:/c%3A/Users/Robotux/Documents/Python/20220105VCSDMAVAK/paskaita_5.ipynb#ch0000024?line=0'>1</a>\u001b[0m \u001b[39mwith\u001b[39;00m \u001b[39mopen\u001b[39m( \u001b[39m'\u001b[39m\u001b[39mtest.txt\u001b[39m\u001b[39m'\u001b[39m, \u001b[39m'\u001b[39m\u001b[39mr\u001b[39m\u001b[39m'\u001b[39m ) \u001b[39mas\u001b[39;00m file_read:\n\u001b[0;32m      <a href='vscode-notebook-cell:/c%3A/Users/Robotux/Documents/Python/20220105VCSDMAVAK/paskaita_5.ipynb#ch0000024?line=1'>2</a>\u001b[0m     \u001b[39mprint\u001b[39m(file_read\u001b[39m.\u001b[39mread())\n\u001b[1;32m----> <a href='vscode-notebook-cell:/c%3A/Users/Robotux/Documents/Python/20220105VCSDMAVAK/paskaita_5.ipynb#ch0000024?line=3'>4</a>\u001b[0m file_read\u001b[39m.\u001b[39;49mread()\n",
      "\u001b[1;31mValueError\u001b[0m: I/O operation on closed file."
     ]
    }
   ],
   "source": [
    "with open( 'test.txt', 'r' ) as file_read:\n",
    "    print(file_read.read())\n",
    "\n",
    "# file_read.read()"
   ]
  },
  {
   "cell_type": "code",
   "execution_count": 43,
   "metadata": {},
   "outputs": [],
   "source": [
    "cities = ['Vilnius', \"Kaunas\", 'Klaipeda']\n",
    "with open( 'test_write.txt', 'w' ) as file_write:\n",
    "    for city in cities:\n",
    "        file_write.write(city + '\\n')"
   ]
  },
  {
   "cell_type": "code",
   "execution_count": 50,
   "metadata": {},
   "outputs": [],
   "source": [
    "import json\n",
    "\n",
    "my_dict = {\n",
    "    'name': 'Darius',\n",
    "    'age': 26,\n",
    "    'kazkas': None,\n",
    "    'True': True,\n",
    "    'hobbies': ['Tennis', 'football']\n",
    "}\n",
    "\n",
    "with open( 'me.json', 'w' ) as file_write:\n",
    "    json.dump( my_dict, file_write )\n",
    "\n"
   ]
  },
  {
   "cell_type": "code",
   "execution_count": 51,
   "metadata": {},
   "outputs": [],
   "source": [
    "with open( 'me.json', 'r' ) as file_read:\n",
    "    my_dict_2 = json.load(file_read)"
   ]
  },
  {
   "cell_type": "code",
   "execution_count": 56,
   "metadata": {},
   "outputs": [
    {
     "name": "stdout",
     "output_type": "stream",
     "text": [
      "{'name': 'Darius', 'age': 26, 'kazkas': None, 'True': True, 'hobbies': ['Tennis', 'football']}\n",
      "my_dict\n"
     ]
    }
   ],
   "source": [
    "\n",
    "print (my_dict_2 )\n",
    "print ('my_dict')"
   ]
  },
  {
   "cell_type": "code",
   "execution_count": 64,
   "metadata": {},
   "outputs": [
    {
     "name": "stdout",
     "output_type": "stream",
     "text": [
      "2018-08-14\n",
      "2018-08-14 10:46:10\n"
     ]
    }
   ],
   "source": [
    "\n",
    "from datetime import datetime\n",
    "\n",
    "date_txt = '2018-08-14 10:46:10'\n",
    "date = datetime.fromisoformat(date_txt) \n",
    "print (date.date())\n",
    "date_txt_2 = '2018/08/14 10:46:10'\n",
    "date = datetime.strptime(date_txt_2, '%Y/%m/%d %H:%M:%S')\n",
    "print(date)"
   ]
  },
  {
   "cell_type": "code",
   "execution_count": null,
   "metadata": {},
   "outputs": [],
   "source": []
  }
 ],
 "metadata": {
  "interpreter": {
   "hash": "ce3f3f42ea1e24236ee7d8b6e939f07d74c5d5b656410ea2a0e47f46c58e1c3f"
  },
  "kernelspec": {
   "display_name": "Python 3.10.2 64-bit",
   "language": "python",
   "name": "python3"
  },
  "language_info": {
   "codemirror_mode": {
    "name": "ipython",
    "version": 3
   },
   "file_extension": ".py",
   "mimetype": "text/x-python",
   "name": "python",
   "nbconvert_exporter": "python",
   "pygments_lexer": "ipython3",
   "version": "3.10.2"
  },
  "orig_nbformat": 4
 },
 "nbformat": 4,
 "nbformat_minor": 2
}
