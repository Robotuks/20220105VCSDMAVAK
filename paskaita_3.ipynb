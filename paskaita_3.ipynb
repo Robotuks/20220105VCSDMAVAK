{
 "cells": [
  {
   "cell_type": "code",
   "execution_count": 1,
   "metadata": {},
   "outputs": [
    {
     "name": "stdout",
     "output_type": "stream",
     "text": [
      "Darius Grigaliunas\n",
      "Mano vardas yra Darius, o pavarde Grigaliunas\n"
     ]
    }
   ],
   "source": [
    "name = 'Darius'\n",
    "surname = \"Grigaliunas\"\n",
    "print(name, surname)\n",
    "print(f'Mano vardas yra {name}, o pavarde {surname}')"
   ]
  },
  {
   "cell_type": "code",
   "execution_count": 5,
   "metadata": {},
   "outputs": [
    {
     "name": "stdout",
     "output_type": "stream",
     "text": [
      "PYTHON MAKES ME REALLY REALLY HAPPY! TO \n",
      "PyThOn makes me really really happy! To \n",
      "PyThOn makes me really really happy! TO \n"
     ]
    }
   ],
   "source": [
    "text =  'Python makes me really really happy! To '\n",
    "print (text.upper())\n",
    "print (text.replace('Python', 'PyThOn'))\n",
    "\n",
    "print (text.replace('t', 'T').replace('o','O') )"
   ]
  },
  {
   "cell_type": "code",
   "execution_count": 19,
   "metadata": {},
   "outputs": [
    {
     "name": "stdout",
     "output_type": "stream",
     "text": [
      "6\n",
      "earn \n",
      "happy World, I am to learn \n",
      "happy\n",
      "to\n",
      "40\n"
     ]
    }
   ],
   "source": [
    "text = 'Hello happy World, I am to learn Python!'\n",
    "word_to_find = 'to'\n",
    "\n",
    "print(text.index('happy'))\n",
    "print(text[28:33])\n",
    "print(text[ text.index('happy') : 33])\n",
    "print(text[ text.index('happy') : text.index('happy') + len('happy')])\n",
    "\n",
    "print(text[ text.index( word_to_find ) : text.index( word_to_find ) + len(word_to_find)])\n",
    "\n",
    "print (len(text) )"
   ]
  },
  {
   "cell_type": "code",
   "execution_count": 20,
   "metadata": {},
   "outputs": [
    {
     "name": "stdout",
     "output_type": "stream",
     "text": [
      "150 km/hours\n",
      "1314000 km/years\n",
      "108000 km/months\n",
      "3600 km/days\n",
      "0.041666666666666664 km/seconds\n",
      "metų: 0.2922374429223744\n",
      "mėnesių: 3.5555555555555554\n",
      "dienų: 106.66666666666667\n",
      "sekundžių: 9216000.0\n"
     ]
    }
   ],
   "source": [
    "dist_moon = 384000 #km\n",
    "\n",
    "car_speed_h = 150 #km/h\n",
    "car_speed_y = car_speed_h * 24 * 365\n",
    "car_speed_m = car_speed_h * 24 * 30\n",
    "car_speed_d = car_speed_h * 24\n",
    "car_speed_s = car_speed_h / 60 / 60\n",
    "\n",
    "print (car_speed_h, 'km/hours')\n",
    "print (car_speed_y, 'km/years')\n",
    "print (car_speed_m, 'km/months')\n",
    "print (car_speed_d, 'km/days')\n",
    "print (car_speed_s, 'km/seconds')\n",
    "\n",
    "print ('metų:', dist_moon / car_speed_y)\n",
    "print ('mėnesių:', dist_moon / car_speed_m)\n",
    "print ('dienų:', dist_moon / car_speed_d)\n",
    "print ('sekundžių:', dist_moon / car_speed_s)"
   ]
  },
  {
   "cell_type": "code",
   "execution_count": 39,
   "metadata": {},
   "outputs": [
    {
     "name": "stdout",
     "output_type": "stream",
     "text": [
      "1983-05-25 00:00:00\n",
      "2022-02-21 18:58:21.593190\n",
      "<class 'datetime.timedelta'>\n",
      "Dienu skaicius nuo gimtadienio: 14152\n",
      "Sekundziu skaicius nuo gimtadienio: 1222801101.59319\n"
     ]
    }
   ],
   "source": [
    "# import datetime\n",
    "from datetime import date, datetime\n",
    "\n",
    "# birthday = date(1983, 5, 25)\n",
    "birthday = datetime(1983, 5, 25)\n",
    "print (birthday)\n",
    "today = datetime.today()\n",
    "print (today)\n",
    "skirtumas = (today - birthday)\n",
    "print (type(skirtumas))\n",
    "print (f'Dienu skaicius nuo gimtadienio: {skirtumas.days}')\n",
    "print (f'Sekundziu skaicius nuo gimtadienio: {skirtumas.total_seconds()}')"
   ]
  },
  {
   "cell_type": "code",
   "execution_count": 47,
   "metadata": {},
   "outputs": [
    {
     "name": "stdout",
     "output_type": "stream",
     "text": [
      "(1, 5846, 3, 74, 4, 68, 4, 8, 7, 4)\n",
      "(1, 5846, 3, 74, 4, 68, 4, 8, 7)\n",
      "(1, 3, 4, 4, 7, 8, 68, 74, 5846)\n",
      "2\n",
      "5846\n",
      "5846\n"
     ]
    }
   ],
   "source": [
    "my_tuple = (1,5846,3,74) + (4,68,4,8,7,4)\n",
    "print(my_tuple)\n",
    "my_tuple = my_tuple[:-1]\n",
    "print(my_tuple)\n",
    "my_tuple = tuple( sorted( my_tuple ) )\n",
    "print(my_tuple)\n",
    "print(my_tuple.count(4))\n",
    "print(my_tuple[-1])\n",
    "print( max(my_tuple) )"
   ]
  },
  {
   "cell_type": "code",
   "execution_count": 48,
   "metadata": {},
   "outputs": [],
   "source": [
    "cities = ['Vilnius', 'Kaunas', 'Siauliai', 'Marijampole', 'Panevezys', 'Panevezys']"
   ]
  },
  {
   "cell_type": "code",
   "execution_count": 51,
   "metadata": {},
   "outputs": [
    {
     "name": "stdout",
     "output_type": "stream",
     "text": [
      "Sveikiname Vilnius su kazkokia svente\n",
      "pradedam sekancia ciklo iteracija\n",
      "Sveikiname Kaunas su kazkokia svente\n",
      "pradedam sekancia ciklo iteracija\n",
      "Sveikiname Siauliai su kazkokia svente\n",
      "pradedam sekancia ciklo iteracija\n",
      "Sveikiname Marijampole su kazkokia svente\n",
      "pradedam sekancia ciklo iteracija\n",
      "Sveikiname Panevezys su kazkokia svente\n",
      "pradedam sekancia ciklo iteracija\n",
      "Sveikiname Panevezys su kazkokia svente\n",
      "pradedam sekancia ciklo iteracija\n",
      "po ciklo\n"
     ]
    }
   ],
   "source": [
    "\n",
    "for city in cities:\n",
    "    print(f'Sveikiname {city} su kazkokia svente')\n",
    "    print('pradedam sekancia ciklo iteracija')\n",
    "print('po ciklo')"
   ]
  },
  {
   "cell_type": "code",
   "execution_count": 52,
   "metadata": {},
   "outputs": [
    {
     "name": "stdout",
     "output_type": "stream",
     "text": [
      "1\n",
      "2\n",
      "3\n",
      "4\n",
      "5\n",
      "6\n",
      "7\n",
      "8\n",
      "9\n",
      "10\n"
     ]
    }
   ],
   "source": [
    "for number in range(1,11):\n",
    "    print (number)"
   ]
  },
  {
   "cell_type": "code",
   "execution_count": 55,
   "metadata": {},
   "outputs": [
    {
     "name": "stdout",
     "output_type": "stream",
     "text": [
      "1275\n"
     ]
    }
   ],
   "source": [
    "suma = 0\n",
    "for number in range(1,51):\n",
    "    suma += number\n",
    "    # print(suma)\n",
    "print(suma)"
   ]
  },
  {
   "cell_type": "code",
   "execution_count": 58,
   "metadata": {},
   "outputs": [
    {
     "name": "stdout",
     "output_type": "stream",
     "text": [
      "6\n",
      "6 * 1 = 6\n",
      "6 * 2 = 12\n",
      "6 * 3 = 18\n",
      "6 * 4 = 24\n",
      "6 * 5 = 30\n",
      "6 * 6 = 36\n",
      "6 * 7 = 42\n",
      "6 * 8 = 48\n",
      "6 * 9 = 54\n",
      "6 * 10 = 60\n"
     ]
    }
   ],
   "source": [
    "input_number = int( input('Iveskite skaiciu: ') )\n",
    "print (input_number)\n",
    "\n",
    "for number in range(1, 11):\n",
    "    print(f'{input_number} * {number} = {input_number * number}')\n"
   ]
  },
  {
   "cell_type": "code",
   "execution_count": 63,
   "metadata": {},
   "outputs": [
    {
     "name": "stdout",
     "output_type": "stream",
     "text": [
      "[('Pirmadienis', 10), ('Pirmadienis', 11), ('Pirmadienis', 12), ('Pirmadienis', 13), ('Pirmadienis', 14), ('Pirmadienis', 15), ('Pirmadienis', 16), ('Pirmadienis', 17), ('Pirmadienis', 18), ('Pirmadienis', 19), ('Antradienis', 10), ('Antradienis', 11), ('Antradienis', 12), ('Antradienis', 13), ('Antradienis', 14), ('Antradienis', 15), ('Antradienis', 16), ('Antradienis', 17), ('Antradienis', 18), ('Antradienis', 19), ('Treciadienis', 10), ('Treciadienis', 11), ('Treciadienis', 12), ('Treciadienis', 13), ('Treciadienis', 14), ('Treciadienis', 15), ('Treciadienis', 16), ('Treciadienis', 17), ('Treciadienis', 18), ('Treciadienis', 19), ('Ketvirtadienis', 10), ('Ketvirtadienis', 11), ('Ketvirtadienis', 12), ('Ketvirtadienis', 13), ('Ketvirtadienis', 14), ('Ketvirtadienis', 15), ('Ketvirtadienis', 16), ('Ketvirtadienis', 17), ('Ketvirtadienis', 18), ('Ketvirtadienis', 19), ('Penktadienis', 10), ('Penktadienis', 11), ('Penktadienis', 12), ('Penktadienis', 13), ('Penktadienis', 14), ('Penktadienis', 15), ('Penktadienis', 16), ('Penktadienis', 17), ('Penktadienis', 18), ('Penktadienis', 19), ('Sestadienis', 10), ('Sestadienis', 11), ('Sestadienis', 12), ('Sestadienis', 13), ('Sestadienis', 14), ('Sestadienis', 15), ('Sestadienis', 16), ('Sestadienis', 17), ('Sestadienis', 18), ('Sestadienis', 19), ('Sekmadienis', 10), ('Sekmadienis', 11), ('Sekmadienis', 12), ('Sekmadienis', 13), ('Sekmadienis', 14), ('Sekmadienis', 15), ('Sekmadienis', 16), ('Sekmadienis', 17), ('Sekmadienis', 18), ('Sekmadienis', 19)]\n"
     ]
    }
   ],
   "source": [
    "dienos = ('Pirmadienis', 'Antradienis', 'Treciadienis','Ketvirtadienis', 'Penktadienis', 'Sestadienis' , 'Sekmadienis')\n",
    "valandos = [10, 11, 12, 13, 14, 15, 16, 17, 18, 19]\n",
    "\n",
    "kombinacijos = []\n",
    "\n",
    "for diena in dienos:\n",
    "    for valanda in valandos:\n",
    "        kombinacijos.append( (diena,valanda) )\n",
    "        # print ('antra ciklas',diena,valanda)\n",
    "    # print (diena, valanda)\n",
    "print( kombinacijos )"
   ]
  },
  {
   "cell_type": "markdown",
   "metadata": {},
   "source": [
    "# If salyga\n"
   ]
  },
  {
   "cell_type": "code",
   "execution_count": 70,
   "metadata": {},
   "outputs": [
    {
     "name": "stdout",
     "output_type": "stream",
     "text": [
      "x yra daugiau uz du\n",
      "po if salygos\n"
     ]
    }
   ],
   "source": [
    "x = 5\n",
    "if x > 2:\n",
    "    print('x yra daugiau uz du')\n",
    "\n",
    "print ('po if salygos')"
   ]
  },
  {
   "cell_type": "code",
   "execution_count": 72,
   "metadata": {},
   "outputs": [
    {
     "name": "stdout",
     "output_type": "stream",
     "text": [
      "x nera daugiau uz du\n"
     ]
    }
   ],
   "source": [
    "x = 0\n",
    "if x > 2:\n",
    "    print('x yra daugiau uz du')\n",
    "else:\n",
    "    print ('x nera daugiau uz du')"
   ]
  },
  {
   "cell_type": "code",
   "execution_count": 75,
   "metadata": {},
   "outputs": [
    {
     "name": "stdout",
     "output_type": "stream",
     "text": [
      "atitinka antra elif salyga\n",
      "po if salygos\n"
     ]
    }
   ],
   "source": [
    "x = 0\n",
    "y = 38\n",
    "\n",
    "if x> 10:\n",
    "    print('if salyga atitinka')\n",
    "elif x > 0 and y > 10:\n",
    "    print('atitinka elif salyga')\n",
    "elif x > -5 and y > 30:\n",
    "    print('atitinka antra elif salyga')\n",
    "else:\n",
    "    print ('else salyga')\n",
    "\n",
    "print ('po if salygos')"
   ]
  },
  {
   "cell_type": "code",
   "execution_count": 78,
   "metadata": {},
   "outputs": [
    {
     "name": "stdout",
     "output_type": "stream",
     "text": [
      "3\n",
      "6\n",
      "9\n",
      "12\n",
      "15\n",
      "18\n"
     ]
    }
   ],
   "source": [
    "for number in range(1,21):\n",
    "    if number % 3 == 0:\n",
    "        print (number)"
   ]
  },
  {
   "cell_type": "code",
   "execution_count": 81,
   "metadata": {},
   "outputs": [
    {
     "name": "stdout",
     "output_type": "stream",
     "text": [
      "650\n"
     ]
    }
   ],
   "source": [
    "suma = 0\n",
    "for number in range(1,51):\n",
    "    if (suma + number) % 2 == 0:\n",
    "        suma += number\n",
    "    # print(suma) # Ctrl + /\n",
    "print(suma)"
   ]
  },
  {
   "cell_type": "code",
   "execution_count": 87,
   "metadata": {},
   "outputs": [
    {
     "name": "stdout",
     "output_type": "stream",
     "text": [
      "7\n",
      "7 * 1 = 7\n",
      "7 * 2 = 14\n",
      "7 * 3 = 21\n",
      "7 * 4 = 28\n",
      "7 * 5 = 35\n",
      "7 * 6 = 42\n",
      "7 * 7 = 49\n",
      "7 * 8 = 56\n",
      "7 * 9 = 63\n",
      "7 * 10 = 70\n"
     ]
    }
   ],
   "source": [
    "input_number = int( input('Iveskite skaiciu: ') )\n",
    "print (input_number)\n",
    "\n",
    "if (input_number ** 2) % 2 != 0:\n",
    "    for number in range(1, 11):\n",
    "        print(f'{input_number} * {number} = {input_number * number}')\n",
    "else:\n",
    "    print('skaicius pakeltas kvadratu yra lyginis')"
   ]
  },
  {
   "cell_type": "code",
   "execution_count": 92,
   "metadata": {},
   "outputs": [
    {
     "name": "stdout",
     "output_type": "stream",
     "text": [
      "[('Pirmadienis', 12), ('Pirmadienis', 13), ('Pirmadienis', 14), ('Pirmadienis', 15), ('Pirmadienis', 16), ('Pirmadienis', 17), ('Treciadienis', 12), ('Treciadienis', 13), ('Treciadienis', 14), ('Treciadienis', 15), ('Treciadienis', 16), ('Treciadienis', 17), ('Ketvirtadienis', 12), ('Ketvirtadienis', 13), ('Ketvirtadienis', 14), ('Ketvirtadienis', 15), ('Ketvirtadienis', 16), ('Ketvirtadienis', 17)]\n"
     ]
    }
   ],
   "source": [
    "dienos = ('Pirmadienis', 'Antradienis', 'Treciadienis','Ketvirtadienis', 'Penktadienis', 'Sestadienis' , 'Sekmadienis')\n",
    "valandos = [10, 11, 12, 13, 14, 15, 16, 17, 18, 19]\n",
    "\n",
    "darbo_dienos = ['Pirmadienis', 'Treciadienis', 'Ketvirtadienis']\n",
    "darbo_valandos = list( range(12,18) )\n",
    "\n",
    "kombinacijos = []\n",
    "\n",
    "for diena in dienos:\n",
    "    # if diena == 'Pirmadienis' or diena == 'Treciadienis':\n",
    "    if diena in darbo_dienos:\n",
    "        for valanda in valandos:\n",
    "            if valanda in darbo_valandos:\n",
    "                kombinacijos.append( (diena,valanda) )\n",
    "        # print ('antra ciklas',diena,valanda)\n",
    "    # print (diena, valanda)\n",
    "print( kombinacijos )"
   ]
  },
  {
   "cell_type": "markdown",
   "metadata": {},
   "source": [
    "# None"
   ]
  },
  {
   "cell_type": "code",
   "execution_count": 93,
   "metadata": {},
   "outputs": [
    {
     "name": "stdout",
     "output_type": "stream",
     "text": [
      "None\n",
      "<class 'NoneType'>\n"
     ]
    }
   ],
   "source": [
    "niekas = None\n",
    "print (niekas)\n",
    "print (type(niekas))\n"
   ]
  },
  {
   "cell_type": "code",
   "execution_count": 94,
   "metadata": {},
   "outputs": [],
   "source": [
    "user_name = ''\n",
    "user_name = input('Irasykite varda')\n",
    "\n",
    "if user_name:\n"
   ]
  },
  {
   "cell_type": "code",
   "execution_count": 95,
   "metadata": {},
   "outputs": [
    {
     "name": "stdout",
     "output_type": "stream",
     "text": [
      "\n"
     ]
    }
   ],
   "source": [
    "print (name)"
   ]
  },
  {
   "cell_type": "code",
   "execution_count": 97,
   "metadata": {},
   "outputs": [
    {
     "name": "stdout",
     "output_type": "stream",
     "text": [
      "variable 'name' has no value (None), assigning name\n",
      "variable 'name' has no value (None), assigning name\n",
      "variable 'name' has no value (None), assigning name\n",
      "variable 'name' has no value (None), assigning name\n",
      "variable 'name' has value of Darius\n"
     ]
    }
   ],
   "source": [
    "name = None\n",
    "# name = \"\"\n",
    "for i in range(5):\n",
    "    if name == None:\n",
    "        print(f\"variable 'name' has no value (None), assigning name\")\n",
    "        value = input(\"Enter your name:\")\n",
    "        if value:\n",
    "            name = value\n",
    "    else:\n",
    "        print(f\"variable 'name' has value of {name}\")"
   ]
  },
  {
   "cell_type": "code",
   "execution_count": 98,
   "metadata": {},
   "outputs": [
    {
     "name": "stdout",
     "output_type": "stream",
     "text": [
      "Darius\n"
     ]
    }
   ],
   "source": [
    "print (name)"
   ]
  },
  {
   "cell_type": "markdown",
   "metadata": {},
   "source": [
    "# List comprehension"
   ]
  },
  {
   "cell_type": "code",
   "execution_count": 100,
   "metadata": {},
   "outputs": [
    {
     "name": "stdout",
     "output_type": "stream",
     "text": [
      "[3, 6, 9, 12, 15, 18]\n"
     ]
    }
   ],
   "source": [
    "numbers = list(range(1,21) )\n",
    "dividible_by_3 = []\n",
    "for number in numbers:\n",
    "    if number % 3 == 0:\n",
    "        dividible_by_3.append(number)\n",
    "        # print(number)\n",
    "print (dividible_by_3)"
   ]
  },
  {
   "cell_type": "code",
   "execution_count": 107,
   "metadata": {},
   "outputs": [
    {
     "name": "stdout",
     "output_type": "stream",
     "text": [
      "[1, 2, 3, 4, 5, 6, 7, 8, 9, 10, 11, 12, 13, 14, 15, 16, 17, 18, 19, 20]\n",
      "[0.5, 1.0, 1.5, 2.0, 2.5, 3.0, 3.5, 4.0, 4.5, 5.0, 5.5, 6.0, 6.5, 7.0, 7.5, 8.0, 8.5, 9.0, 9.5, 10.0]\n",
      "[3, 6, 9, 12, 15, 18]\n",
      "[9, 36, 81, 144, 225, 324]\n",
      "[(3, 9), (6, 36), (9, 81), (12, 144), (15, 225), (18, 324)]\n"
     ]
    }
   ],
   "source": [
    "print (numbers)\n",
    "dividible_by_3 = [ number/2 for number in numbers ]\n",
    "print (dividible_by_3)\n",
    "dividible_by_3 = [ number for number in numbers if number % 3 == 0 ]\n",
    "print (dividible_by_3)\n",
    "dividible_by_3 = [ number ** 2 for number in numbers if number % 3 == 0 ]\n",
    "print (dividible_by_3)\n",
    "dividible_by_3 = [ (number, number ** 2) for number in numbers if number % 3 == 0 ]\n",
    "print (dividible_by_3)"
   ]
  },
  {
   "cell_type": "code",
   "execution_count": 109,
   "metadata": {},
   "outputs": [
    {
     "name": "stdout",
     "output_type": "stream",
     "text": [
      "[100, 100, 3, 100, 100, 6, 100, 100, 9, 100, 100, 12, 100, 100, 15, 100, 100, 18, 100, 100]\n"
     ]
    }
   ],
   "source": [
    "dividible_by_3 = [ number if number % 3 == 0 else 100 for number in numbers ]\n",
    "print (dividible_by_3)"
   ]
  },
  {
   "cell_type": "code",
   "execution_count": 111,
   "metadata": {},
   "outputs": [
    {
     "name": "stdout",
     "output_type": "stream",
     "text": [
      "[5, 4, 8, 3, 10, 8, 16, 6, 15, 12, 24, 9, 20, 16, 32, 12]\n",
      "[5, 8, 24, 12]\n"
     ]
    }
   ],
   "source": [
    "x_axis = [1,2,3,4]\n",
    "y_axis = (5,4,8,3)\n",
    "mult = [ x*y for x in x_axis for y in y_axis ]\n",
    "print(mult)\n",
    "mult = [ x*y for x,y in zip(x_axis, y_axis) ]\n",
    "print(mult)"
   ]
  },
  {
   "cell_type": "markdown",
   "metadata": {},
   "source": [
    "# Dictionary"
   ]
  },
  {
   "cell_type": "code",
   "execution_count": 113,
   "metadata": {},
   "outputs": [],
   "source": [
    "my_dictionary = {\n",
    "    'name': 'Darius',\n",
    "    'surname': 'Grigaliunas',\n",
    "    'age': 26,\n",
    "    'hobbies': ['tennis', 'football', 'games']\n",
    "}"
   ]
  },
  {
   "cell_type": "code",
   "execution_count": 115,
   "metadata": {},
   "outputs": [
    {
     "name": "stdout",
     "output_type": "stream",
     "text": [
      "{'name': 'Darius', 'surname': 'Grigaliunas', 'age': 26, 'hobbies': ['tennis', 'football', 'games']}\n",
      "<class 'dict'>\n"
     ]
    }
   ],
   "source": [
    "print (my_dictionary)\n",
    "print (type(my_dictionary))"
   ]
  },
  {
   "cell_type": "code",
   "execution_count": 117,
   "metadata": {},
   "outputs": [
    {
     "name": "stdout",
     "output_type": "stream",
     "text": [
      "Darius\n",
      "['tennis', 'football', 'games']\n"
     ]
    }
   ],
   "source": [
    "print (my_dictionary['name'])\n",
    "print (my_dictionary['hobbies'])"
   ]
  },
  {
   "cell_type": "code",
   "execution_count": 118,
   "metadata": {},
   "outputs": [
    {
     "name": "stdout",
     "output_type": "stream",
     "text": [
      "{'name': 'Darius', 'surname': 'Grigaliunas', 'age': 25, 'hobbies': ['tennis', 'football', 'games']}\n"
     ]
    }
   ],
   "source": [
    "my_dictionary['age'] = 25\n",
    "print (my_dictionary)"
   ]
  },
  {
   "cell_type": "code",
   "execution_count": 120,
   "metadata": {},
   "outputs": [
    {
     "name": "stdout",
     "output_type": "stream",
     "text": [
      "{'name': 'Darius', 'surname': 'Grigaliunas', 'age': 25, 'hobbies': ['tennis', 'football', 'games'], 'city': 'Vilnius'}\n",
      "5\n"
     ]
    }
   ],
   "source": [
    "my_dictionary['city'] = 'Vilnius'\n",
    "print (my_dictionary)\n",
    "print ( len(my_dictionary) )"
   ]
  },
  {
   "cell_type": "markdown",
   "metadata": {},
   "source": [
    "### Dictionary is mutable"
   ]
  },
  {
   "cell_type": "code",
   "execution_count": null,
   "metadata": {},
   "outputs": [],
   "source": [
    "my_dictionary.copy() #"
   ]
  },
  {
   "cell_type": "code",
   "execution_count": 122,
   "metadata": {},
   "outputs": [
    {
     "name": "stdout",
     "output_type": "stream",
     "text": [
      "Vilnius\n"
     ]
    }
   ],
   "source": [
    "print (my_dictionary.get('city') )"
   ]
  },
  {
   "cell_type": "code",
   "execution_count": 123,
   "metadata": {},
   "outputs": [
    {
     "ename": "KeyError",
     "evalue": "'car'",
     "output_type": "error",
     "traceback": [
      "\u001b[1;31m---------------------------------------------------------------------------\u001b[0m",
      "\u001b[1;31mKeyError\u001b[0m                                  Traceback (most recent call last)",
      "\u001b[1;32mc:\\Users\\Robotux\\Documents\\Python\\20220105VCSDMAVAK\\paskaita_3.ipynb Cell 41'\u001b[0m in \u001b[0;36m<module>\u001b[1;34m\u001b[0m\n\u001b[1;32m----> <a href='vscode-notebook-cell:/c%3A/Users/Robotux/Documents/Python/20220105VCSDMAVAK/paskaita_3.ipynb#ch0000041?line=0'>1</a>\u001b[0m \u001b[39mprint\u001b[39m (my_dictionary[\u001b[39m'\u001b[39;49m\u001b[39mcar\u001b[39;49m\u001b[39m'\u001b[39;49m] )\n",
      "\u001b[1;31mKeyError\u001b[0m: 'car'"
     ]
    }
   ],
   "source": [
    "print (my_dictionary['car'] )"
   ]
  },
  {
   "cell_type": "code",
   "execution_count": 125,
   "metadata": {},
   "outputs": [
    {
     "name": "stdout",
     "output_type": "stream",
     "text": [
      "None\n",
      "No car\n"
     ]
    }
   ],
   "source": [
    "print (my_dictionary.get('car') )\n",
    "print (my_dictionary.get('car', 'No car') )"
   ]
  },
  {
   "cell_type": "code",
   "execution_count": 126,
   "metadata": {},
   "outputs": [
    {
     "name": "stdout",
     "output_type": "stream",
     "text": [
      "{'name': 'Darius', 'surname': 'Grigaliunas', 'age': 25, 'hobbies': ['tennis', 'football', 'games'], 'city': 'Vilnius'}\n"
     ]
    }
   ],
   "source": [
    "print (my_dictionary)"
   ]
  },
  {
   "cell_type": "code",
   "execution_count": 129,
   "metadata": {},
   "outputs": [
    {
     "name": "stdout",
     "output_type": "stream",
     "text": [
      "{'name': 'Darius', 'surname': 'Grigaliunas', 'age': 25, 'hobbies': ['tennis', 'football', 'games'], 'city': 'Vilnius', 10: 'desimt'}\n",
      "desimt\n",
      "{'name': 'Darius', 'surname': 'Grigaliunas', 'age': 25, 'hobbies': ['tennis', 'football', 'games'], 'city': 'Vilnius'}\n"
     ]
    }
   ],
   "source": [
    "my_dictionary[10] = 'desimt'\n",
    "print (my_dictionary)\n",
    "print (my_dictionary.pop(10) )\n",
    "print (my_dictionary)"
   ]
  },
  {
   "cell_type": "code",
   "execution_count": 130,
   "metadata": {},
   "outputs": [
    {
     "name": "stdout",
     "output_type": "stream",
     "text": [
      "{'name': 'Darius', 'surname': 'Grigaliunas', 'age': 25, 'hobbies': ['tennis', 'football', 'games'], 'city': 'Vilnius', None: 'niekas'}\n",
      "{'name': 'Darius', 'surname': 'Grigaliunas', 'age': 25, 'hobbies': ['tennis', 'football', 'games'], 'city': 'Vilnius'}\n",
      "None niekas\n"
     ]
    }
   ],
   "source": [
    "my_dictionary[None] = 'niekas'\n",
    "print (my_dictionary)\n",
    "key, value =  my_dictionary.popitem()\n",
    "print (my_dictionary)\n",
    "print (key, value)"
   ]
  },
  {
   "cell_type": "code",
   "execution_count": 133,
   "metadata": {},
   "outputs": [],
   "source": [
    "new_dictionary = {\n",
    "    'name': 'Darius',\n",
    "    'age': 20,\n",
    "    'hobbies': ['tennis', 'games'],\n",
    "    'age': 26,\n",
    "}\n",
    "\n",
    "my_dictionary.update(new_dictionary)"
   ]
  },
  {
   "cell_type": "code",
   "execution_count": 134,
   "metadata": {},
   "outputs": [
    {
     "name": "stdout",
     "output_type": "stream",
     "text": [
      "{'name': 'Darius', 'surname': 'Grigaliunas', 'age': 26, 'hobbies': ['tennis', 'games'], 'city': 'Vilnius'}\n"
     ]
    }
   ],
   "source": [
    "print (my_dictionary)"
   ]
  },
  {
   "cell_type": "code",
   "execution_count": 135,
   "metadata": {},
   "outputs": [
    {
     "name": "stdout",
     "output_type": "stream",
     "text": [
      "Darius\n",
      "Grigaliunas\n",
      "26\n",
      "['tennis', 'games']\n",
      "Vilnius\n"
     ]
    }
   ],
   "source": [
    "for value in my_dictionary.values():\n",
    "    print (value)"
   ]
  },
  {
   "cell_type": "code",
   "execution_count": 136,
   "metadata": {},
   "outputs": [
    {
     "name": "stdout",
     "output_type": "stream",
     "text": [
      "name\n",
      "surname\n",
      "age\n",
      "hobbies\n",
      "city\n"
     ]
    }
   ],
   "source": [
    "for key in my_dictionary.keys():\n",
    "    print (key)"
   ]
  },
  {
   "cell_type": "code",
   "execution_count": 138,
   "metadata": {},
   "outputs": [
    {
     "name": "stdout",
     "output_type": "stream",
     "text": [
      "key name has a value of: Darius\n",
      "key surname has a value of: Grigaliunas\n",
      "key age has a value of: 26\n",
      "key hobbies has a value of: ['tennis', 'games']\n",
      "key city has a value of: Vilnius\n"
     ]
    }
   ],
   "source": [
    "for k, v in my_dictionary.items(): # k - key, v - value\n",
    "    print (f'key {k} has a value of: {v}')"
   ]
  },
  {
   "cell_type": "code",
   "execution_count": null,
   "metadata": {},
   "outputs": [],
   "source": [
    "poped_values = []\n",
    "car = my_dictionary.pop('car')\n",
    "name = my_dictionary.pop('name')"
   ]
  },
  {
   "cell_type": "code",
   "execution_count": 139,
   "metadata": {},
   "outputs": [],
   "source": [
    "user = {\n",
    "  \"created_at\": \"Tue Feb 27 21:11:40 +0000 2018\",\n",
    "  \"id\": 968594506663669800,\n",
    "  \"id_str\": \"968594506663669760\",\n",
    "  \"text\": \"RT @honeydrop_506: 180222 ICN #백현 #BAEKHYUNnn나의 겨울과 너nn#iHeartAwards #BestFanArmy #EXOL @weareoneEXO https://t.co/hg7I3xAlBg\",\n",
    "  \"source\": '',\n",
    "  \"truncated\": False,\n",
    "  \"in_reply_to_status_id\": None,\n",
    "  \"in_reply_to_status_id_str\": None,\n",
    "  \"in_reply_to_user_id\": None,\n",
    "  \"in_reply_to_user_id_str\": None,\n",
    "  \"in_reply_to_screen_name\": None,\n",
    "  \"user\": {\n",
    "    \"id\": 4448809940,\n",
    "    \"id_str\": \"4448809940\",\n",
    "    \"name\": \"ayah\",\n",
    "    \"screen_name\": \"lovbyun\",\n",
    "    \"location\": \"bbh iu jjh pcy kjd dks\",\n",
    "    \"url\": \"https://curiouscat.me/baekhyun-l\",\n",
    "    \"description\": \"hi hello I love exo\",\n",
    "    \"translator_type\": \"none\",\n",
    "    \"protected\": False,\n",
    "    \"verified\": False,\n",
    "    \"followers_count\": 1142,\n",
    "    \"friends_count\": 125,\n",
    "    \"listed_count\": 20,\n",
    "    \"favourites_count\": 5712,\n",
    "    \"statuses_count\": 4011,\n",
    "    \"created_at\": \"Fri Dec 04 03:44:59 +0000 2015\",\n",
    "    \"utc_offset\": -28800,\n",
    "    \"time_zone\": \"Pacific Time (US & Canada)\",\n",
    "    \"geo_enabled\": False,\n",
    "    \"lang\": \"en\",\n",
    "    \"contributors_enabled\": False,\n",
    "    \"is_translator\": False,\n",
    "    \"profile_background_color\": \"000000\",\n",
    "    \"profile_background_image_url\": \"http://abs.twimg.com/images/themes/theme1/bg.png\",\n",
    "    \"profile_background_image_url_https\": \"https://abs.twimg.com/images/themes/theme1/bg.png\",\n",
    "    \"profile_background_tile\": False,\n",
    "    \"profile_link_color\": \"F58EA8\",\n",
    "    \"profile_sidebar_border_color\": \"000000\",\n",
    "    \"profile_sidebar_fill_color\": \"000000\",\n",
    "    \"profile_text_color\": \"000000\",\n",
    "    \"profile_use_background_image\": False,\n",
    "    \"profile_image_url\": \"http://pbs.twimg.com/profile_images/967130320259526656/0xZ-wxXJ_normal.jpg\",\n",
    "    \"profile_image_url_https\": \"https://pbs.twimg.com/profile_images/967130320259526656/0xZ-wxXJ_normal.jpg\",\n",
    "    \"profile_banner_url\": \"https://pbs.twimg.com/profile_banners/4448809940/1519340670\",\n",
    "    \"default_profile\": False,\n",
    "    \"default_profile_image\": False,\n",
    "    \"following\": None,\n",
    "    \"follow_request_sent\": None,\n",
    "    \"notifications\": None\n",
    "  }\n",
    "}"
   ]
  },
  {
   "cell_type": "code",
   "execution_count": 141,
   "metadata": {},
   "outputs": [
    {
     "data": {
      "text/plain": [
       "'http://pbs.twimg.com/profile_images/967130320259526656/0xZ-wxXJ_normal.jpg'"
      ]
     },
     "execution_count": 141,
     "metadata": {},
     "output_type": "execute_result"
    }
   ],
   "source": [
    "user[\"user\"]['profile_image_url']"
   ]
  },
  {
   "cell_type": "code",
   "execution_count": 143,
   "metadata": {},
   "outputs": [],
   "source": [
    "car = {\n",
    "  \"brand\": \"Ford\",\n",
    "  \"model\": \"Mustang\",\n",
    "  \"year\": 1964\n",
    "}\n"
   ]
  },
  {
   "cell_type": "code",
   "execution_count": 144,
   "metadata": {},
   "outputs": [
    {
     "name": "stdout",
     "output_type": "stream",
     "text": [
      "Ford\n",
      "3\n",
      "{'brand': 'Ford', 'model': 'Mustang', 'year': 2022}\n"
     ]
    }
   ],
   "source": [
    "print(car[\"brand\"])\n",
    "print(len(car))\n",
    "car[\"year\"] = 2022\n",
    "print(car)\n"
   ]
  },
  {
   "cell_type": "code",
   "execution_count": 145,
   "metadata": {},
   "outputs": [
    {
     "name": "stdout",
     "output_type": "stream",
     "text": [
      "{'brand': 'Ford', 'model': 'Mustang', 'year': 2022, 'color': 'red', 'used': True}\n"
     ]
    }
   ],
   "source": [
    "car['color'] = 'red'\n",
    "car['used'] = True\n",
    "print (car)"
   ]
  },
  {
   "cell_type": "code",
   "execution_count": 148,
   "metadata": {},
   "outputs": [
    {
     "name": "stdout",
     "output_type": "stream",
     "text": [
      "{'brand': 'Ford', 'model': 'Mustang', 'year': 2022, 'color': 'red', 'used': True}\n"
     ]
    }
   ],
   "source": [
    "car.update( {'color': 'red', 'used': True } )\n",
    "print (car)"
   ]
  },
  {
   "cell_type": "code",
   "execution_count": 149,
   "metadata": {},
   "outputs": [
    {
     "name": "stdout",
     "output_type": "stream",
     "text": [
      "{'year': None, 'color': 'red', 'used': True}\n"
     ]
    }
   ],
   "source": [
    "car ={\n",
    "  \"brand\": \"Ford\",\n",
    "  \"year\": 1992,\n",
    "  'color': 'red',\n",
    "  'used':  True\n",
    "}\n",
    "\n",
    "car.pop('brand')\n",
    "car['year'] = None\n",
    "print (car)"
   ]
  },
  {
   "cell_type": "code",
   "execution_count": null,
   "metadata": {},
   "outputs": [],
   "source": []
  }
 ],
 "metadata": {
  "interpreter": {
   "hash": "ce3f3f42ea1e24236ee7d8b6e939f07d74c5d5b656410ea2a0e47f46c58e1c3f"
  },
  "kernelspec": {
   "display_name": "Python 3.10.2 64-bit",
   "language": "python",
   "name": "python3"
  },
  "language_info": {
   "codemirror_mode": {
    "name": "ipython",
    "version": 3
   },
   "file_extension": ".py",
   "mimetype": "text/x-python",
   "name": "python",
   "nbconvert_exporter": "python",
   "pygments_lexer": "ipython3",
   "version": "3.10.2"
  },
  "orig_nbformat": 4
 },
 "nbformat": 4,
 "nbformat_minor": 2
}
